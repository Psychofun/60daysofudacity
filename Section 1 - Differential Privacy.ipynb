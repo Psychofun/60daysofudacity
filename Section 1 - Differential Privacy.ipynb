{
 "cells": [
  {
   "cell_type": "markdown",
   "metadata": {},
   "source": [
    "## Lesson: Toy Differential Privacy - Simple Database Queries"
   ]
  },
  {
   "cell_type": "markdown",
   "metadata": {},
   "source": [
    "In this section we're going to play around with Differential Privacy in the context of a database query. The database is going to be a VERY simple database with only one boolean column. Each row corresponds to a person. Each value corresponds to whether or not that person has a certain private attribute (such as whether they have a certain disease, or whether they are above/below a certain age). We are then going to learn how to know whether a database query over such a small database is differentially private or not - and more importantly - what techniques are at our disposal to ensure various levels of privacy\n",
    "\n",
    "\n",
    "### First We Create a Simple Database\n",
    "\n",
    "Step one is to create our database - we're going to do this by initializing a random list of 1s and 0s (which are the entries in our database). Note - the number of entries directly corresponds to the number of people in our database."
   ]
  },
  {
   "cell_type": "code",
   "execution_count": 1,
   "metadata": {},
   "outputs": [
    {
     "data": {
      "text/plain": [
       "tensor([1, 1, 0,  ..., 0, 0, 0], dtype=torch.uint8)"
      ]
     },
     "execution_count": 1,
     "metadata": {},
     "output_type": "execute_result"
    }
   ],
   "source": [
    "import torch\n",
    "\n",
    "# the number of entries in our database\n",
    "num_entries = 5000\n",
    "\n",
    "db = torch.rand(num_entries) > 0.5\n",
    "db"
   ]
  },
  {
   "cell_type": "markdown",
   "metadata": {},
   "source": [
    "## Project: Generate Parallel Databases\n",
    "\n",
    "Key to the definition of differenital privacy is the ability to ask the question \"When querying a database, if I removed someone from the database, would the output of the query be any different?\". Thus, in order to check this, we must construct what we term \"parallel databases\" which are simply databases with one entry removed. \n",
    "\n",
    "In this first project, I want you to create a list of every parallel database to the one currently contained in the \"db\" variable. Then, I want you to create a function which both:\n",
    "\n",
    "- creates the initial database (db)\n",
    "- creates all parallel databases"
   ]
  },
  {
   "cell_type": "code",
   "execution_count": 2,
   "metadata": {},
   "outputs": [
    {
     "name": "stdout",
     "output_type": "stream",
     "text": [
      "<module 'torch.nn' from 'F:\\\\Instalaciones\\\\Anaconda3\\\\envs\\\\privateai\\\\lib\\\\site-packages\\\\torch\\\\nn\\\\__init__.py'>\n"
     ]
    }
   ],
   "source": [
    "# try project here!\n",
    "from torch import nn\n",
    "print(nn)"
   ]
  },
  {
   "cell_type": "code",
   "execution_count": 3,
   "metadata": {},
   "outputs": [],
   "source": [
    "\n",
    "def create_db_and_parallels(N):\n",
    "    \"\"\"\n",
    "    N: int \n",
    "        number of entries in database\n",
    "    Create initial database, then create a list of parallel databases\n",
    "    Return database, parallel_dbs\n",
    "    \n",
    "    \"\"\"\n",
    "    \n",
    "    db = torch.randn(N) > 0.5\n",
    "    db = db.type(torch.FloatTensor)\n",
    "    \n",
    "    parallel_dbs = [ torch.cat( (db[0: i], db[i+1: N]))  for i in range(0,N)]\n",
    "    \n",
    "    return db,parallel_dbs"
   ]
  },
  {
   "cell_type": "code",
   "execution_count": 4,
   "metadata": {},
   "outputs": [
    {
     "name": "stdout",
     "output_type": "stream",
     "text": [
      "tensor([0., 0., 0.])\n",
      "[tensor([0., 0.]), tensor([0., 0.]), tensor([0., 0.])]\n"
     ]
    }
   ],
   "source": [
    "db,pdbs = create_db_and_parallels(3)\n",
    "print(db)\n",
    "print(pdbs)\n"
   ]
  },
  {
   "cell_type": "markdown",
   "metadata": {},
   "source": [
    "# Lesson: Towards Evaluating The Differential Privacy of a Function\n",
    "\n",
    "Intuitively, we want to be able to query our database and evaluate whether or not the result of the query is leaking \"private\" information. As mentioned previously, this is about evaluating whether the output of a query changes when we remove someone from the database. Specifically, we want to evaluate the *maximum* amount the query changes when someone is removed (maximum over all possible people who could be removed). So, in order to evaluate how much privacy is leaked, we're going to iterate over each person in the database and measure the difference in the output of the query relative to when we query the entire database. \n",
    "\n",
    "Just for the sake of argument, let's make our first \"database query\" a simple sum. Aka, we're going to count the number of 1s in the database."
   ]
  },
  {
   "cell_type": "code",
   "execution_count": 5,
   "metadata": {},
   "outputs": [],
   "source": [
    "db, pdbs = create_db_and_parallels(5000)"
   ]
  },
  {
   "cell_type": "code",
   "execution_count": 6,
   "metadata": {},
   "outputs": [],
   "source": [
    "def query(db):\n",
    "    return db.sum()"
   ]
  },
  {
   "cell_type": "code",
   "execution_count": 7,
   "metadata": {},
   "outputs": [],
   "source": [
    "full_db_result = query(db)"
   ]
  },
  {
   "cell_type": "code",
   "execution_count": 8,
   "metadata": {},
   "outputs": [],
   "source": [
    "sensitivity = 0\n",
    "for pdb in pdbs:\n",
    "    pdb_result = query(pdb)\n",
    "    \n",
    "    db_distance = torch.abs(pdb_result - full_db_result)\n",
    "    \n",
    "    if(db_distance > sensitivity):\n",
    "        sensitivity = db_distance"
   ]
  },
  {
   "cell_type": "code",
   "execution_count": 9,
   "metadata": {},
   "outputs": [
    {
     "data": {
      "text/plain": [
       "tensor(1.)"
      ]
     },
     "execution_count": 9,
     "metadata": {},
     "output_type": "execute_result"
    }
   ],
   "source": [
    "sensitivity"
   ]
  },
  {
   "cell_type": "markdown",
   "metadata": {},
   "source": [
    "# Project - Evaluating the Privacy of a Function\n",
    "\n",
    "In the last section, we measured the difference between each parallel db's query result and the query result for the entire database and then calculated the max value (which was 1). This value is called \"sensitivity\", and it corresponds to the function we chose for the query. Namely, the \"sum\" query will always have a sensitivity of exactly 1. However, we can also calculate sensitivity for other functions as well.\n",
    "\n",
    "Let's try to calculate sensitivity for the \"mean\" function."
   ]
  },
  {
   "cell_type": "code",
   "execution_count": 10,
   "metadata": {},
   "outputs": [],
   "source": [
    "# try this project here!"
   ]
  },
  {
   "cell_type": "code",
   "execution_count": 11,
   "metadata": {},
   "outputs": [],
   "source": [
    "def sensitivity(query, n_entries):\n",
    "    \"\"\"\n",
    "    query: function over database\n",
    "    \n",
    "    n_entries: int\n",
    "    number of entries of database\n",
    "    \"\"\"\n",
    "    \n",
    "    db, pdbs = create_db_and_parallels(N = n_entries)\n",
    "    \n",
    "    query_result_db = query(db)\n",
    "    \n",
    "    query_result_pdbs = list(map(query, pdbs))\n",
    "    \n",
    "    \n",
    "    \n",
    "    #Compute sensitivity. Max difference in query when removing one entry in database\n",
    "    diff = lambda x : abs(query_result_db - x)\n",
    "    \n",
    "    s = max( list(map(diff, query_result_pdbs)))\n",
    "    \n",
    "    return s\n",
    "    "
   ]
  },
  {
   "cell_type": "code",
   "execution_count": 12,
   "metadata": {},
   "outputs": [
    {
     "name": "stdout",
     "output_type": "stream",
     "text": [
      "tensor(1.)\n"
     ]
    }
   ],
   "source": [
    "s = sensitivity( query, 500 )\n",
    "\n",
    "print(s)"
   ]
  },
  {
   "cell_type": "code",
   "execution_count": 13,
   "metadata": {},
   "outputs": [],
   "source": [
    "def query_mean(db):\n",
    "    return db.mean()"
   ]
  },
  {
   "cell_type": "code",
   "execution_count": 14,
   "metadata": {},
   "outputs": [
    {
     "data": {
      "text/plain": [
       "tensor(0.3166)"
      ]
     },
     "execution_count": 14,
     "metadata": {},
     "output_type": "execute_result"
    }
   ],
   "source": [
    "query_mean(db)"
   ]
  },
  {
   "cell_type": "code",
   "execution_count": 15,
   "metadata": {},
   "outputs": [
    {
     "data": {
      "text/plain": [
       "tensor(0.0007)"
      ]
     },
     "execution_count": 15,
     "metadata": {},
     "output_type": "execute_result"
    }
   ],
   "source": [
    "sensitivity(query_mean, 1000)"
   ]
  },
  {
   "cell_type": "markdown",
   "metadata": {},
   "source": [
    "Wow! That sensitivity is WAY lower. Note the intuition here. \"Sensitivity\" is measuring how sensitive the output of the query is to a person being removed from the database. For a simple sum, this is always 1, but for the mean, removing a person is going to change the result of the query by rougly 1 divided by the size of the database (which is much smaller). Thus, \"mean\" is a VASTLY less \"sensitive\" function (query) than SUM."
   ]
  },
  {
   "cell_type": "markdown",
   "metadata": {},
   "source": [
    "# Project: Calculate L1 Sensitivity For Threshold\n",
    "\n",
    "In this first project, I want you to calculate the sensitivty for the \"threshold\" function. \n",
    "\n",
    "- First compute the sum over the database (i.e. sum(db)) and return whether that sum is greater than a certain threshold.\n",
    "- Then, I want you to create databases of size 10 and threshold of 5 and calculate the sensitivity of the function. \n",
    "- Finally, re-initialize the database 10 times and calculate the sensitivity each time."
   ]
  },
  {
   "cell_type": "code",
   "execution_count": 16,
   "metadata": {},
   "outputs": [],
   "source": [
    "# try this project here!"
   ]
  },
  {
   "cell_type": "code",
   "execution_count": 17,
   "metadata": {},
   "outputs": [],
   "source": [
    "def query(db, threshold):\n",
    "    \n",
    "    s = db.sum()\n",
    "    \n",
    "    return (s > threshold)"
   ]
  },
  {
   "cell_type": "code",
   "execution_count": 18,
   "metadata": {},
   "outputs": [],
   "source": [
    "threshold_query = lambda z : query(z,5.0)"
   ]
  },
  {
   "cell_type": "code",
   "execution_count": 19,
   "metadata": {},
   "outputs": [],
   "source": [
    "sensitivities = [ sensitivity(threshold_query, 10)  for _ in range(10)]"
   ]
  },
  {
   "cell_type": "code",
   "execution_count": 20,
   "metadata": {},
   "outputs": [
    {
     "name": "stdout",
     "output_type": "stream",
     "text": [
      "tensor(0, dtype=torch.uint8)\n",
      "tensor(0, dtype=torch.uint8)\n",
      "tensor(0, dtype=torch.uint8)\n",
      "tensor(0, dtype=torch.uint8)\n",
      "tensor(0, dtype=torch.uint8)\n",
      "tensor(0, dtype=torch.uint8)\n",
      "tensor(0, dtype=torch.uint8)\n",
      "tensor(0, dtype=torch.uint8)\n",
      "tensor(0, dtype=torch.uint8)\n",
      "tensor(0, dtype=torch.uint8)\n"
     ]
    }
   ],
   "source": [
    "print(*sensitivities, sep =\"\\n\")\n",
    "\n"
   ]
  },
  {
   "cell_type": "markdown",
   "metadata": {},
   "source": [
    "# Lesson: A Basic Differencing Attack\n",
    "\n",
    "Sadly none of the functions we've looked at so far are differentially private (despite them having varying levels of sensitivity). The most basic type of attack can be done as follows.\n",
    "\n",
    "Let's say we wanted to figure out a specific person's value in the database. All we would have to do is query for the sum of the entire database and then the sum of the entire database without that person!\n",
    "\n",
    "# Project: Perform a Differencing Attack on Row 10\n",
    "\n",
    "In this project, I want you to construct a database and then demonstrate how you can use two different sum queries to explose the value of the person represented by row 10 in the database (note, you'll need to use a database with at least 10 rows)"
   ]
  },
  {
   "cell_type": "code",
   "execution_count": 21,
   "metadata": {},
   "outputs": [],
   "source": [
    "# try this project here!"
   ]
  },
  {
   "cell_type": "code",
   "execution_count": 22,
   "metadata": {},
   "outputs": [],
   "source": [
    "def delete_entry(db,index ):\n",
    "    \"\"\"\n",
    "    db: pytoch tensor\n",
    "        database \n",
    "    index: int\n",
    "        entry in database to be deleted\n",
    "    \n",
    "    \"\"\"\n",
    "    \n",
    "    assert index < db.shape[0], \"index must be in [0, number of entries -1 in db, db.shape[0] -1] \"\n",
    "    \n",
    "    return torch.cat((db[0:index], db[index + 1:]))\n",
    "\n",
    "\n",
    "    "
   ]
  },
  {
   "cell_type": "code",
   "execution_count": 23,
   "metadata": {},
   "outputs": [],
   "source": [
    " db,pdbs = create_db_and_parallels(20)"
   ]
  },
  {
   "cell_type": "code",
   "execution_count": 24,
   "metadata": {},
   "outputs": [
    {
     "data": {
      "text/plain": [
       "tensor([0., 0., 0., 1., 1., 0., 1., 0., 0., 0., 0., 0., 0., 0., 0., 1., 0., 1.,\n",
       "        0., 0.])"
      ]
     },
     "execution_count": 24,
     "metadata": {},
     "output_type": "execute_result"
    }
   ],
   "source": [
    "db"
   ]
  },
  {
   "cell_type": "code",
   "execution_count": 25,
   "metadata": {},
   "outputs": [
    {
     "data": {
      "text/plain": [
       "tensor([0., 0., 1., 1., 0., 1., 0., 0., 0., 0., 0., 0., 0., 0., 1., 0., 1., 0.,\n",
       "        0.])"
      ]
     },
     "execution_count": 25,
     "metadata": {},
     "output_type": "execute_result"
    }
   ],
   "source": [
    "db2 = delete_entry(db, 0)\n",
    "\n",
    "db2"
   ]
  },
  {
   "cell_type": "markdown",
   "metadata": {},
   "source": [
    "# Differential attack on row 10 "
   ]
  },
  {
   "cell_type": "markdown",
   "metadata": {},
   "source": [
    "### Attack user in row 10 "
   ]
  },
  {
   "cell_type": "markdown",
   "metadata": {},
   "source": [
    "#### query sum()"
   ]
  },
  {
   "cell_type": "code",
   "execution_count": 26,
   "metadata": {},
   "outputs": [
    {
     "name": "stdout",
     "output_type": "stream",
     "text": [
      "Value for person in index 9: tensor(0.)\n"
     ]
    }
   ],
   "source": [
    "index = 9\n",
    "\n",
    "value = db.sum()\n",
    "db_no_index = delete_entry(db,index)\n",
    "value_no_index = db_no_index.sum()\n",
    "\n",
    "value_for_person = value - value_no_index\n",
    "\n",
    "print(\"Value for person in index 9:\", value_for_person)\n"
   ]
  },
  {
   "cell_type": "markdown",
   "metadata": {},
   "source": [
    "#### query mean()"
   ]
  },
  {
   "cell_type": "code",
   "execution_count": 27,
   "metadata": {},
   "outputs": [
    {
     "name": "stdout",
     "output_type": "stream",
     "text": [
      "Value for person in index 9: 0.013157904148101807\n"
     ]
    }
   ],
   "source": [
    "index = 9\n",
    "\n",
    "value = db.mean()\n",
    "db_no_index = delete_entry(db,index)\n",
    "value_no_index = db_no_index.mean()\n",
    "\n",
    "value_for_person =abs( (value - value_no_index).item()  )\n",
    "\n",
    "print(\"Value for person in index 9:\", value_for_person)\n"
   ]
  },
  {
   "cell_type": "markdown",
   "metadata": {},
   "source": [
    "# Project: Local Differential Privacy\n",
    "\n",
    "As you can see, the basic sum query is not differentially private at all! In truth, differential privacy always requires a form of randomness added to the query. Let me show you what I mean.\n",
    "\n",
    "### Randomized Response (Local Differential Privacy)\n",
    "\n",
    "Let's say I have a group of people I wish to survey about a very taboo behavior which I think they will lie about (say, I want to know if they have ever committed a certain kind of crime). I'm not a policeman, I'm just trying to collect statistics to understand the higher level trend in society. So, how do we do this? One technique is to add randomness to each person's response by giving each person the following instructions (assuming I'm asking a simple yes/no question):\n",
    "\n",
    "- Flip a coin 2 times.\n",
    "- If the first coin flip is heads, answer honestly\n",
    "- If the first coin flip is tails, answer according to the second coin flip (heads for yes, tails for no)!\n",
    "\n",
    "Thus, each person is now protected with \"plausible deniability\". If they answer \"Yes\" to the question \"have you committed X crime?\", then it might becasue they actually did, or it might be becasue they are answering according to a random coin flip. Each person has a high degree of protection. Furthermore, we can recover the underlying statistics with some accuracy, as the \"true statistics\" are simply averaged with a 50% probability. Thus, if we collect a bunch of samples and it turns out that 60% of people answer yes, then we know that the TRUE distribution is actually centered around 70%, because 70% averaged wtih 50% (a coin flip) is 60% which is the result we obtained. \n",
    "\n",
    "However, it should be noted that, especially when we only have a few samples, the this comes at the cost of accuracy. This tradeoff exists across all of Differential Privacy. The greater the privacy protection (plausible deniability) the less accurate the results. \n",
    "\n",
    "Let's implement this local DP for our database before!"
   ]
  },
  {
   "cell_type": "code",
   "execution_count": 28,
   "metadata": {},
   "outputs": [],
   "source": [
    "# try this project here!"
   ]
  },
  {
   "cell_type": "code",
   "execution_count": 29,
   "metadata": {},
   "outputs": [
    {
     "data": {
      "text/plain": [
       "True"
      ]
     },
     "execution_count": 29,
     "metadata": {},
     "output_type": "execute_result"
    }
   ],
   "source": [
    "db = torch.randn(10000) > 0.5\n",
    "torch.cuda.is_available()"
   ]
  },
  {
   "cell_type": "markdown",
   "metadata": {},
   "source": [
    "### Set Dtype to CUDA"
   ]
  },
  {
   "cell_type": "code",
   "execution_count": 30,
   "metadata": {},
   "outputs": [
    {
     "data": {
      "text/plain": [
       "True"
      ]
     },
     "execution_count": 30,
     "metadata": {},
     "output_type": "execute_result"
    }
   ],
   "source": [
    "import torch\n",
    "\n",
    "#Fisrt way\n",
    "dtype = torch.cuda.FloatTensor\n",
    "\n",
    "#Second way\n",
    "torch.set_default_tensor_type('torch.cuda.FloatTensor')\n",
    "\n",
    "torch.cuda.is_available()"
   ]
  },
  {
   "cell_type": "code",
   "execution_count": 31,
   "metadata": {},
   "outputs": [],
   "source": [
    "import numpy as np\n",
    "def make_private_db_no_vectorized(db):\n",
    "    \"\"\"\n",
    "    db: pytorch tensor\n",
    "        database \n",
    "    \n",
    "    \"\"\" \n",
    "    #number of data points\n",
    "    m = db.shape[0]\n",
    "    n,p = 1, 1/2 #number of trials, probability of success for trial\n",
    "    \n",
    "    flip1 = np.random.binomial(n,p,m)\n",
    "    flip2 = torch.from_numpy(np.random.binomial(n,p,m))\n",
    "    \n",
    "    private_db = torch.zeros(db.shape)\n",
    "    \n",
    "    for i in range(m):\n",
    "        if flip1[i] > 0 :\n",
    "            private_db[i] = db[i]\n",
    "        else:\n",
    "            private_db[i] = flip2[i]\n",
    "    \n",
    "    \n",
    "    return private_db\n",
    "\n",
    "\n",
    "def make_private_db(db):\n",
    "    \"\"\"\n",
    "    db: pytorch tensor. can be ByteTensor\n",
    "        database \n",
    "    \n",
    "    \"\"\" \n",
    "    \n",
    "    #cast to FloatTensor\n",
    "    db = db.type(torch.cuda.FloatTensor)\n",
    "    \n",
    "    #number of data points\n",
    "    m = db.shape[0]\n",
    "    n,p = 1, 1/2 #number of trials, probability of success for trial\n",
    "    \n",
    "    flip1 =  torch.from_numpy(np.random.binomial(n,p,m))\n",
    "    flip1  = flip1.type(torch.cuda.FloatTensor)\n",
    "    \n",
    "    flip2 = torch.from_numpy(np.random.binomial(n,p,m))\n",
    "    flip2 = flip2.type(torch.cuda.FloatTensor)\n",
    "    \n",
    "    #Leave entry i in db if flip[i] = 1, else db[i] = flip2[i]\n",
    "    private_db = db * flip1\n",
    "    #print(\"Db dtype after cast:\",db.dtype)\n",
    "    private_db  =  private_db  + ( 1- flip1 ) * flip2     \n",
    "    \n",
    "\n",
    "    return private_db\n",
    "        \n",
    "    \n",
    "def private_query(db, query):\n",
    "    \"\"\"\n",
    "    db: pytorch tensor\n",
    "        database \n",
    "    query: function\n",
    "    \n",
    "    \"\"\"\n",
    "    private_db = make_private_db(db)\n",
    "    \n",
    "    return query(private_db)"
   ]
  },
  {
   "cell_type": "code",
   "execution_count": 32,
   "metadata": {},
   "outputs": [
    {
     "name": "stdout",
     "output_type": "stream",
     "text": [
      "True\n",
      "torch.float32\n",
      "DB tensor([0., 0., 0., 0., 0., 1., 1., 0., 0., 0.]) \n",
      "\n",
      "Private DB: tensor([1., 1., 0., 1., 0., 0., 1., 0., 0., 0.])\n"
     ]
    }
   ],
   "source": [
    "private_db = make_private_db(db)\n",
    "\n",
    "db = db.type(torch.cuda.FloatTensor)\n",
    "print(db.is_cuda)\n",
    "\n",
    "print(db.dtype)\n",
    "print(\"DB\", db[:10], \"\\n\")\n",
    "print(\"Private DB:\",  private_db[:10])"
   ]
  },
  {
   "cell_type": "code",
   "execution_count": 33,
   "metadata": {},
   "outputs": [],
   "source": [
    "sum_query = lambda x: x.sum()\n",
    "mean_query = lambda x: torch.mean(x)"
   ]
  },
  {
   "cell_type": "code",
   "execution_count": 34,
   "metadata": {},
   "outputs": [
    {
     "name": "stdout",
     "output_type": "stream",
     "text": [
      "Normal: 2 vs private: 7.5 n entries: 10\n",
      "Normal: 31 vs private: 83.5 n entries: 100\n",
      "Normal: 329 vs private: 793.5 n entries: 1000\n"
     ]
    }
   ],
   "source": [
    "\n",
    "for n in [10, 100,1000]:\n",
    "    db = torch.randn(n) > 0.5\n",
    "    query = db.sum()\n",
    "    private_query_ = private_query(db, sum_query) *2 -0.5 \n",
    "\n",
    "    print(\"Normal: {} vs private: {} n entries: {}\".format( query, private_query_,n))"
   ]
  },
  {
   "cell_type": "code",
   "execution_count": 35,
   "metadata": {},
   "outputs": [
    {
     "name": "stdout",
     "output_type": "stream",
     "text": [
      "Normal: 0.30000001192092896 vs private: 0.30000001192092896 n entries: 10\n",
      "Normal: 0.28999999165534973 vs private: 0.3799999952316284 n entries: 100\n",
      "Normal: 0.33500000834465027 vs private: 0.3140000104904175 n entries: 1000\n"
     ]
    }
   ],
   "source": [
    "for n in [10, 100,1000]:\n",
    "    db = torch.randn(n) > 0.5\n",
    "    query = db.float().mean()\n",
    "    private_query_ = private_query(db,mean_query) *2 -0.5 \n",
    "\n",
    "    print(\"Normal: {} vs private: {} n entries: {}\".format( query, private_query_,n))"
   ]
  },
  {
   "cell_type": "markdown",
   "metadata": {},
   "source": [
    "# Project: Varying Amounts of Noise\n",
    "\n",
    "In this project, I want you to augment the randomized response query (the one we just wrote) to allow for varying amounts of randomness to be added. Specifically, I want you to bias the coin flip to be higher or lower and then run the same experiment. \n",
    "\n",
    "Note - this one is a bit tricker than you might expect. You need to both adjust the likelihood of the first coin flip AND the de-skewing at the end (where we create the \"augmented_result\" variable)."
   ]
  },
  {
   "cell_type": "code",
   "execution_count": 36,
   "metadata": {},
   "outputs": [],
   "source": [
    "# try this project here!"
   ]
  },
  {
   "cell_type": "markdown",
   "metadata": {},
   "source": [
    "$\\text{To center result around mean of original distribution}$\n",
    "$\\text{Where x is skew result}$\n",
    "\n",
    "$x =trueDistMean * noise + (noiseDistMean  *(1-noise) )$\n",
    "\n",
    "$ \\text{We need to obtain trueDistMean}$\n",
    "$trueDistMean =   \\frac{x -  (noiseDistMean * (1-noise))} {noise}$\n",
    "\n",
    "$trueDistMean = \\frac{ x +  noiseDistMean * noise - noiseDistMean}{noise}  $\n",
    "\n",
    "$trueDistMean = \\frac{x}{noise} + noiseDistMean - \\frac{noiseDistMean}{noise}$               \n"
   ]
  },
  {
   "cell_type": "code",
   "execution_count": 37,
   "metadata": {},
   "outputs": [],
   "source": [
    "def make_private_db_noise(db, noise ):\n",
    "    \"\"\"\n",
    "    db: pytorch tensor\n",
    "        database \n",
    "    noise: float\n",
    "        percentage of noise to be added\n",
    "    \n",
    "    \"\"\" \n",
    "    #number of data points\n",
    "    m = db.shape[0]\n",
    "    n,p = 1, noise / 100   #number of trials, probability of success for trial\n",
    "    \n",
    "    flip1 =  torch.from_numpy(np.random.binomial(n,p,m))\n",
    "    flip1  = flip1.type(torch.cuda.FloatTensor)\n",
    "    \n",
    "    flip2 = torch.from_numpy(np.random.binomial(n,1/2,m))\n",
    "    flip2 = flip2.type(torch.cuda.FloatTensor)\n",
    "    \n",
    "    #leave entry i in db if flip[i] = 1, else db[i] = flip2[i]\n",
    "    #print(\"type db {}, flip1 {}\".format(db.dtype,flip1.dtype))\n",
    "    \n",
    "    #db = db.type(torch.cuda.FloatTensor)\n",
    "    private_db = db * flip1\n",
    "    \n",
    "    #print(\"private db type\", type(private_db))\n",
    "    private_db  =  private_db  + ( 1- flip1 ) * flip2     \n",
    "    #print(\"private db type\", type(private_db))\n",
    "    \n",
    "\n",
    "    return private_db \n",
    "\n",
    "\n",
    "\n",
    "\n",
    "def private_query_noise(db, query,noise):\n",
    "    \"\"\"\n",
    "    db: pytorch tensor\n",
    "        database \n",
    "    query: function\n",
    "    \n",
    "    \"\"\"\n",
    "    db = db.type(torch.cuda.FloatTensor)\n",
    "    private_db = make_private_db_noise(db, noise)\n",
    "    \n",
    "    return query(private_db)"
   ]
  },
  {
   "cell_type": "code",
   "execution_count": 38,
   "metadata": {},
   "outputs": [
    {
     "name": "stdout",
     "output_type": "stream",
     "text": [
      "Normal: 0.30000001192092896 vs private: 0.4987342059612274 n entries: 10\n",
      "Normal: 0.26999998092651367 vs private: 0.5024051070213318 n entries: 100\n",
      "Normal: 0.3060000240802765 vs private: 0.5020380020141602 n entries: 1000\n"
     ]
    }
   ],
   "source": [
    "noise = 80\n",
    "for n in [10, 100,1000]:\n",
    "    db = torch.randn(n) > 0.5\n",
    "    query = db.float().mean()\n",
    "    sk_query = private_query_noise(db,mean_query, noise)\n",
    "    private_query_ =  ( (sk_query /noise) - 0.5 ) * noise/(1-noise)\n",
    "\n",
    "    print(\"Normal: {} vs private: {} n entries: {}\".format( query, private_query_,n))"
   ]
  },
  {
   "cell_type": "markdown",
   "metadata": {},
   "source": [
    "# Lesson: The Formal Definition of Differential Privacy\n",
    "\n",
    "The previous method of adding noise was called \"Local Differentail Privacy\" because we added noise to each datapoint individually. This is necessary for some situations wherein the data is SO sensitive that individuals do not trust noise to be added later. However, it comes at a very high cost in terms of accuracy. \n",
    "\n",
    "However, alternatively we can add noise AFTER data has been aggregated by a function. This kind of noise can allow for similar levels of protection with a lower affect on accuracy. However, participants must be able to trust that no-one looked at their datapoints _before_ the aggregation took place. In some situations this works out well, in others (such as an individual hand-surveying a group of people), this is less realistic.\n",
    "\n",
    "Nevertheless, global differential privacy is incredibly important because it allows us to perform differential privacy on smaller groups of individuals with lower amounts of noise. Let's revisit our sum functions."
   ]
  },
  {
   "cell_type": "code",
   "execution_count": 39,
   "metadata": {},
   "outputs": [
    {
     "data": {
      "text/plain": [
       "tensor(31., device='cpu')"
      ]
     },
     "execution_count": 39,
     "metadata": {},
     "output_type": "execute_result"
    }
   ],
   "source": [
    "db, pdbs = create_db_and_parallels(100)\n",
    "\n",
    "def query(db):\n",
    "    return torch.sum(db.float())\n",
    "\n",
    "def M(db):\n",
    "    query(db) + noise\n",
    "\n",
    "query(db)"
   ]
  },
  {
   "cell_type": "markdown",
   "metadata": {},
   "source": [
    "So the idea here is that we want to add noise to the output of our function. We actually have two different kinds of noise we can add - Laplacian Noise or Gaussian Noise. However, before we do so at this point we need to dive into the formal definition of Differential Privacy.\n",
    "\n",
    "![alt text](dp_formula.png \"Title\")"
   ]
  },
  {
   "cell_type": "markdown",
   "metadata": {},
   "source": [
    "_Image From: \"The Algorithmic Foundations of Differential Privacy\" - Cynthia Dwork and Aaron Roth - https://www.cis.upenn.edu/~aaroth/Papers/privacybook.pdf_"
   ]
  },
  {
   "cell_type": "markdown",
   "metadata": {},
   "source": [
    "This definition does not _create_ differential privacy, instead it is a measure of how much privacy is afforded by a query M. Specifically, it's a comparison between running the query M on a database (x) and a parallel database (y). As you remember, parallel databases are defined to be the same as a full database (x) with one entry/person removed.\n",
    "\n",
    "Thus, this definition says that FOR ALL parallel databases, the maximum distance between a query on database (x) and the same query on database (y) will be e^epsilon, but that occasionally this constraint won't hold with probability delta. Thus, this theorem is called \"epsilon delta\" differential privacy.\n",
    "\n",
    "# Epsilon\n",
    "\n",
    "Let's unpack the intuition of this for a moment. \n",
    "\n",
    "Epsilon Zero: If a query satisfied this inequality where epsilon was set to 0, then that would mean that the query for all parallel databases outputed the exact same value as the full database. As you may remember, when we calculated the \"threshold\" function, often the Sensitivity was 0. In that case, the epsilon also happened to be zero.\n",
    "\n",
    "Epsilon One: If a query satisfied this inequality with epsilon 1, then the maximum distance between all queries would be 1 - or more precisely - the maximum distance between the two random distributions M(x) and M(y) is 1 (because all these queries have some amount of randomness in them, just like we observed in the last section).\n",
    "\n",
    "# Delta\n",
    "\n",
    "Delta is basically the probability that epsilon breaks. Namely, sometimes the epsilon is different for some queries than it is for others. For example, you may remember when we were calculating the sensitivity of threshold, most of the time sensitivity was 0 but sometimes it was 1. Thus, we could calculate this as \"epsilon zero but non-zero delta\" which would say that epsilon is perfect except for some probability of the time when it's arbitrarily higher. Note that this expression doesn't represent the full tradeoff between epsilon and delta."
   ]
  },
  {
   "cell_type": "markdown",
   "metadata": {},
   "source": [
    "# Lesson: How To Add Noise for Global Differential Privacy\n",
    "\n",
    "In this lesson, we're going to learn about how to take a query and add varying amounts of noise so that it satisfies a certain degree of differential privacy. In particular, we're going to leave behind the Local Differential privacy previously discussed and instead opt to focus on Global differential privacy. \n",
    "\n",
    "So, to sum up, this lesson is about adding noise to the output of our query so that it satisfies a certain epsilon-delta differential privacy threshold.\n",
    "\n",
    "There are two kinds of noise we can add - Gaussian Noise or Laplacian Noise. Generally speaking Laplacian is better, but both are still valid. Now to the hard question...\n",
    "\n",
    "### How much noise should we add?\n",
    "\n",
    "The amount of noise necessary to add to the output of a query is a function of four things:\n",
    "\n",
    "- the type of noise (Gaussian/Laplacian)\n",
    "- the sensitivity of the query/function\n",
    "- the desired epsilon (ε)\n",
    "- the desired delta (δ)\n",
    "\n",
    "Thus, for each type of noise we're adding, we have different way of calculating how much to add as a function of sensitivity, epsilon, and delta. We're going to focus on Laplacian noise. Laplacian noise is increased/decreased according to a \"scale\" parameter b. We choose \"b\" based on the following formula.\n",
    "\n",
    "b = sensitivity(query) / epsilon\n",
    "\n",
    "In other words, if we set b to be this value, then we know that we will have a privacy leakage of <= epsilon. Furthermore, the nice thing about Laplace is that it guarantees this with delta == 0. There are some tunings where we can have very low epsilon where delta is non-zero, but we'll ignore them for now.\n",
    "\n",
    "### Querying Repeatedly\n",
    "\n",
    "- if we query the database multiple times - we can simply add the epsilons (Even if we change the amount of noise and their epsilons are not the same)."
   ]
  },
  {
   "cell_type": "markdown",
   "metadata": {},
   "source": [
    "# Project: Create a Differentially Private Query\n",
    "\n",
    "In this project, I want you to take what you learned in the previous lesson and create a query function which sums over the database and adds just the right amount of noise such that it satisfies an epsilon constraint. Write a query for both \"sum\" and for \"mean\". Ensure that you use the correct sensitivity measures for both."
   ]
  },
  {
   "cell_type": "code",
   "execution_count": 40,
   "metadata": {},
   "outputs": [],
   "source": [
    "# try this project here!"
   ]
  },
  {
   "cell_type": "code",
   "execution_count": 41,
   "metadata": {},
   "outputs": [],
   "source": [
    "def sum_query(db):\n",
    "    return db.sum()\n",
    "    \n",
    "def mean_query (db):\n",
    "    \n",
    "    return torch.mean(db)"
   ]
  },
  {
   "cell_type": "code",
   "execution_count": 42,
   "metadata": {},
   "outputs": [],
   "source": [
    "import numpy as np\n",
    "\n",
    "def laplacian_mechanism(db,query, sensitivity, epsilon):\n",
    "    \n",
    "    assert  epsilon != 0, \"Epsilon must be different of 0\"\n",
    "    \n",
    "    b = sensitivity / epsilon\n",
    "    \n",
    "    noise = np.random.laplace(loc = 0.0, scale = b, size = 1)[0]\n",
    "    \n",
    "    return query(db).item() + noise \n",
    "    "
   ]
  },
  {
   "cell_type": "code",
   "execution_count": 43,
   "metadata": {},
   "outputs": [],
   "source": [
    "N = 1000\n",
    "db, pdb = create_db_and_parallels(N )\n",
    "epsilon = 0.5"
   ]
  },
  {
   "cell_type": "markdown",
   "metadata": {},
   "source": [
    "### Sum query"
   ]
  },
  {
   "cell_type": "code",
   "execution_count": 44,
   "metadata": {},
   "outputs": [
    {
     "name": "stdout",
     "output_type": "stream",
     "text": [
      "Result: tensor(326., device='cpu')\n",
      "Private result: 325.56795273433306\n"
     ]
    }
   ],
   "source": [
    "result =  sum_query(db)\n",
    "private_result = laplacian_mechanism(db,sum_query,1, epsilon = epsilon)\n",
    "\n",
    "print(\"Result:\",result)\n",
    "print(\"Private result:\",private_result  )"
   ]
  },
  {
   "cell_type": "code",
   "execution_count": 45,
   "metadata": {},
   "outputs": [],
   "source": [
    "def mean_query(db):\n",
    "    return torch.mean( db.float() )\n"
   ]
  },
  {
   "cell_type": "code",
   "execution_count": 46,
   "metadata": {},
   "outputs": [
    {
     "name": "stdout",
     "output_type": "stream",
     "text": [
      "Result: tensor(0.3260, device='cpu')\n",
      "Private result: 0.3287119723509499\n"
     ]
    }
   ],
   "source": [
    "result =  mean_query(db)\n",
    "private_result = laplacian_mechanism(db,mean_query,1/N, epsilon = epsilon)\n",
    "\n",
    "print(\"Result:\",result)\n",
    "print(\"Private result:\",private_result  )"
   ]
  },
  {
   "cell_type": "markdown",
   "metadata": {},
   "source": [
    "# Lesson: Differential Privacy for Deep Learning\n",
    "\n",
    "So in the last lessons you may have been wondering - what does all of this have to do with Deep Learning? Well, these same techniques we were just studying form the core primitives for how Differential Privacy provides guarantees in the context of Deep Learning. \n",
    "\n",
    "Previously, we defined perfect privacy as \"a query to a database returns the same value even if we remove any person from the database\", and used this intuition in the description of epsilon/delta. In the context of deep learning we have a similar standard.\n",
    "\n",
    "Training a model on a dataset should return the same model even if we remove any person from the dataset.\n",
    "\n",
    "Thus, we've replaced \"querying a database\" with \"training a model on a dataset\". In essence, the training process is a kind of query. However, one should note that this adds two points of complexity which database queries did not have:\n",
    "\n",
    "    1. do we always know where \"people\" are referenced in the dataset?\n",
    "    2. neural models rarely never train to the same output model, even on identical data\n",
    "\n",
    "The answer to (1) is to treat each training example as a single, separate person. Strictly speaking, this is often overly zealous as some training examples have no relevance to people and others may have multiple/partial (consider an image with multiple people contained within it). Thus, localizing exactly where \"people\" are referenced, and thus how much your model would change if people were removed, is challenging.\n",
    "\n",
    "The answer to (2) is also an open problem - but several interesitng proposals have been made. We're going to focus on one of the most popular proposals, PATE.\n",
    "\n",
    "## An Example Scenario: A Health Neural Network\n",
    "\n",
    "First we're going to consider a scenario - you work for a hospital and you have a large collection of images about your patients. However, you don't know what's in them. You would like to use these images to develop a neural network which can automatically classify them, however since your images aren't labeled, they aren't sufficient to train a classifier. \n",
    "\n",
    "However, being a cunning strategist, you realize that you can reach out to 10 partner hospitals which DO have annotated data. It is your hope to train your new classifier on their datasets so that you can automatically label your own. While these hospitals are interested in helping, they have privacy concerns regarding information about their patients. Thus, you will use the following technique to train a classifier which protects the privacy of patients in the other hospitals.\n",
    "\n",
    "- 1) You'll ask each of the 10 hospitals to train a model on their own datasets (All of which have the same kinds of labels)\n",
    "- 2) You'll then use each of the 10 partner models to predict on your local dataset, generating 10 labels for each of your datapoints\n",
    "- 3) Then, for each local data point (now with 10 labels), you will perform a DP query to generate the final true label. This query is a \"max\" function, where \"max\" is the most frequent label across the 10 labels. We will need to add laplacian noise to make this Differentially Private to a certain epsilon/delta constraint.\n",
    "- 4) Finally, we will retrain a new model on our local dataset which now has labels. This will be our final \"DP\" model.\n",
    "\n",
    "So, let's walk through these steps. I will assume you're already familiar with how to train/predict a deep neural network, so we'll skip steps 1 and 2 and work with example data. We'll focus instead on step 3, namely how to perform the DP query for each example using toy data.\n",
    "\n",
    "So, let's say we have 10,000 training examples, and we've got 10 labels for each example (from our 10 \"teacher models\" which were trained directly on private data). Each label is chosen from a set of 10 possible labels (categories) for each image."
   ]
  },
  {
   "cell_type": "code",
   "execution_count": 47,
   "metadata": {},
   "outputs": [],
   "source": [
    "import numpy as np"
   ]
  },
  {
   "cell_type": "code",
   "execution_count": 48,
   "metadata": {},
   "outputs": [],
   "source": [
    "num_teachers = 10 # we're working with 10 partner hospitals\n",
    "num_examples = 10000 # the size of OUR dataset\n",
    "num_labels = 10 # number of lablels for our classifier"
   ]
  },
  {
   "cell_type": "code",
   "execution_count": 49,
   "metadata": {},
   "outputs": [],
   "source": [
    "preds = (np.random.rand(num_teachers, num_examples) * num_labels).astype(int).transpose(1,0) # fake predictions"
   ]
  },
  {
   "cell_type": "code",
   "execution_count": 50,
   "metadata": {},
   "outputs": [],
   "source": [
    "new_labels = list()\n",
    "for an_image in preds:\n",
    "\n",
    "    label_counts = np.bincount(an_image, minlength=num_labels)\n",
    "\n",
    "    epsilon = 0.1\n",
    "    beta = 1 / epsilon\n",
    "\n",
    "    for i in range(len(label_counts)):\n",
    "        label_counts[i] += np.random.laplace(0, beta, 1)\n",
    "\n",
    "    new_label = np.argmax(label_counts)\n",
    "    \n",
    "    new_labels.append(new_label)"
   ]
  },
  {
   "cell_type": "code",
   "execution_count": 51,
   "metadata": {},
   "outputs": [],
   "source": [
    "# new_labels"
   ]
  },
  {
   "cell_type": "markdown",
   "metadata": {},
   "source": [
    "# PATE Analysis"
   ]
  },
  {
   "cell_type": "code",
   "execution_count": 52,
   "metadata": {},
   "outputs": [
    {
     "data": {
      "text/plain": [
       "9"
      ]
     },
     "execution_count": 52,
     "metadata": {},
     "output_type": "execute_result"
    }
   ],
   "source": [
    "labels = np.array([9, 9, 3, 6, 9, 9, 9, 9, 8, 2])\n",
    "counts = np.bincount(labels, minlength=10)\n",
    "query_result = np.argmax(counts)\n",
    "query_result"
   ]
  },
  {
   "cell_type": "markdown",
   "metadata": {},
   "source": [
    "### Install syft"
   ]
  },
  {
   "cell_type": "code",
   "execution_count": 53,
   "metadata": {},
   "outputs": [],
   "source": [
    "import sys \n",
    "\n",
    "#!{sys.executable} -m pip install syft"
   ]
  },
  {
   "cell_type": "code",
   "execution_count": 54,
   "metadata": {},
   "outputs": [
    {
     "name": "stderr",
     "output_type": "stream",
     "text": [
      "WARNING: Logging before flag parsing goes to stderr.\n",
      "W0629 01:15:06.154461 14972 secure_random.py:22] Falling back to insecure randomness since the required custom op could not be found for the installed version of TensorFlow (1.14.0). Fix this by compiling custom ops.\n",
      "W0629 01:15:06.364708 14972 deprecation_wrapper.py:119] From F:\\Instalaciones\\Anaconda3\\envs\\privateai\\lib\\site-packages\\tf_encrypted\\session.py:28: The name tf.Session is deprecated. Please use tf.compat.v1.Session instead.\n",
      "\n"
     ]
    }
   ],
   "source": [
    "from syft.frameworks.torch.differential_privacy import pate"
   ]
  },
  {
   "cell_type": "code",
   "execution_count": 55,
   "metadata": {},
   "outputs": [
    {
     "name": "stdout",
     "output_type": "stream",
     "text": [
      "Warning: May not have used enough values of l. Increase 'moments' variable and run again.\n"
     ]
    }
   ],
   "source": [
    "num_teachers, num_examples, num_labels = (100, 100, 10)\n",
    "preds = (np.random.rand(num_teachers, num_examples) * num_labels).astype(int) #fake preds\n",
    "indices = (np.random.rand(num_examples) * num_labels).astype(int) # true answers\n",
    "\n",
    "preds[:,0:10] *= 0\n",
    "\n",
    "data_dep_eps, data_ind_eps = pate.perform_analysis(teacher_preds=preds, indices=indices, noise_eps=0.1, delta=1e-5)\n",
    "\n",
    "assert data_dep_eps < data_ind_eps\n",
    "\n"
   ]
  },
  {
   "cell_type": "code",
   "execution_count": 56,
   "metadata": {},
   "outputs": [
    {
     "name": "stdout",
     "output_type": "stream",
     "text": [
      "Warning: May not have used enough values of l. Increase 'moments' variable and run again.\n",
      "Data Independent Epsilon: 11.756462732485115\n",
      "Data Dependent Epsilon: 1.52655213289881\n"
     ]
    }
   ],
   "source": [
    "data_dep_eps, data_ind_eps = pate.perform_analysis(teacher_preds=preds, indices=indices, noise_eps=0.1, delta=1e-5)\n",
    "print(\"Data Independent Epsilon:\", data_ind_eps)\n",
    "print(\"Data Dependent Epsilon:\", data_dep_eps)"
   ]
  },
  {
   "cell_type": "code",
   "execution_count": 57,
   "metadata": {},
   "outputs": [],
   "source": [
    "preds[:,0:50] *= 0"
   ]
  },
  {
   "cell_type": "code",
   "execution_count": 58,
   "metadata": {},
   "outputs": [
    {
     "name": "stdout",
     "output_type": "stream",
     "text": [
      "Data Independent Epsilon: 11.756462732485115\n",
      "Data Dependent Epsilon: 0.9029013677789843\n"
     ]
    }
   ],
   "source": [
    "data_dep_eps, data_ind_eps = pate.perform_analysis(teacher_preds=preds, indices=indices, noise_eps=0.1, delta=1e-5, moments=20)\n",
    "print(\"Data Independent Epsilon:\", data_ind_eps)\n",
    "print(\"Data Dependent Epsilon:\", data_dep_eps)"
   ]
  },
  {
   "cell_type": "markdown",
   "metadata": {},
   "source": [
    "# Where to Go From Here\n",
    "\n",
    "\n",
    "Read:\n",
    "    - Algorithmic Foundations of Differential Privacy: https://www.cis.upenn.edu/~aaroth/Papers/privacybook.pdf\n",
    "    - Deep Learning with Differential Privacy: https://arxiv.org/pdf/1607.00133.pdf\n",
    "    - The Ethical Algorithm: https://www.amazon.com/Ethical-Algorithm-Science-Socially-Design/dp/0190948205\n",
    "   \n",
    "Topics:\n",
    "    - The Exponential Mechanism\n",
    "    - The Moment's Accountant\n",
    "    - Differentially Private Stochastic Gradient Descent\n",
    "\n",
    "Advice:\n",
    "    - For deployments - stick with public frameworks!\n",
    "    - Join the Differential Privacy Community\n",
    "    - Don't get ahead of yourself - DP is still in the early days"
   ]
  },
  {
   "cell_type": "markdown",
   "metadata": {},
   "source": [
    "# Section Project:\n",
    "\n",
    "For the final project for this section, you're going to train a DP model using this PATE method on the MNIST dataset, provided below."
   ]
  },
  {
   "cell_type": "code",
   "execution_count": 52,
   "metadata": {},
   "outputs": [],
   "source": [
    "from torchvision import datasets, transforms\n",
    "\n",
    "transform = transforms.Compose([transforms.Normalize((0.5,) , (0.5,)) ])\n",
    "\n",
    "mnist_trainset = datasets.MNIST(root='./data', train=True, download=True, transform=transform)\n",
    "\n",
    "mnist_testset = datasets.MNIST(root='./data', train=False, download=True, transform=transform)"
   ]
  },
  {
   "cell_type": "code",
   "execution_count": 53,
   "metadata": {},
   "outputs": [],
   "source": [
    "#FEATURES\n",
    "train_data = mnist_trainset.data\n",
    "#cast to float\n",
    "train_data = train_data.type(torch.FloatTensor)\n",
    "\n",
    "#LABELS\n",
    "train_targets = mnist_trainset.targets\n",
    "#cast to float\n",
    "train_targets = train_targets.type(torch.FloatTensor)\n",
    "\n",
    "\n"
   ]
  },
  {
   "cell_type": "code",
   "execution_count": 54,
   "metadata": {},
   "outputs": [],
   "source": [
    "#FEATURES\n",
    "test_data = mnist_testset.data\n",
    "#cast to float\n",
    "test_data = test_data.type(torch.FloatTensor)\n",
    "\n",
    "#LABELS\n",
    "test_targets = mnist_testset.targets\n",
    "# Cast to float\n",
    "test_targets = test_targets.type(torch.FloatTensor)\n"
   ]
  },
  {
   "cell_type": "code",
   "execution_count": 55,
   "metadata": {},
   "outputs": [
    {
     "name": "stdout",
     "output_type": "stream",
     "text": [
      "Train data: torch.Size([60000, 28, 28])\n",
      "Train targets: torch.Size([60000])\n",
      "\n",
      "Test data: torch.Size([10000, 28, 28])\n",
      "Test data: torch.Size([10000])\n"
     ]
    }
   ],
   "source": [
    "print(\"Train data:\", train_data.shape)\n",
    "print(\"Train targets:\", train_targets.shape)\n",
    "print()\n",
    "\n",
    "print(\"Test data:\", test_data.shape)\n",
    "print(\"Test data:\", test_targets.shape)"
   ]
  },
  {
   "cell_type": "markdown",
   "metadata": {},
   "source": [
    "## Split dataset into 10 mini datasets"
   ]
  },
  {
   "cell_type": "code",
   "execution_count": 56,
   "metadata": {},
   "outputs": [],
   "source": [
    "#number of training examples\n",
    "m = train_data.shape[0]\n",
    "\n",
    "#number of models\n",
    "n_models = 10 \n",
    "\n",
    "#training data for each model\n",
    "workers_train_data = [ train_data[i*(m//n_models): (i+1)*(m//n_models)] for i in range(n_models)]\n",
    "workers_train_targets = [ train_targets[j*(m//n_models):(j+1)*(m//n_models)] for j in range(n_models)]\n"
   ]
  },
  {
   "cell_type": "markdown",
   "metadata": {},
   "source": [
    "## Visualization of Data"
   ]
  },
  {
   "cell_type": "code",
   "execution_count": 57,
   "metadata": {},
   "outputs": [],
   "source": [
    "import helper\n",
    "\n",
    "def visualize_example(images,labels,index = 0):\n",
    "    img, label = images[index],labels[index]\n",
    "\n",
    "    one_hot_label = torch.zeros(10)\n",
    "    one_hot_label[int(label.item())] = 1\n",
    "    one_hot_label =  one_hot_label.cpu()\n",
    "    helper.view_classify(img.view(1,28,28),one_hot_label, version ='MNIST')\n",
    "\n",
    "\n"
   ]
  },
  {
   "cell_type": "code",
   "execution_count": 59,
   "metadata": {},
   "outputs": [
    {
     "name": "stdout",
     "output_type": "stream",
     "text": [
      "Visualize training example\n",
      "Visuzalize test example\n"
     ]
    },
    {
     "data": {
      "text/plain": [
       "'visualize_example(hospitals_test_data[0],\\n                    hospitals_test_labels[0], 2)'"
      ]
     },
     "execution_count": 59,
     "metadata": {},
     "output_type": "execute_result"
    },
    {
     "data": {
      "image/png": "[encoded data removed]",
      "text/plain": [
       "<Figure size 432x648 with 2 Axes>"
      ]
     },
     "metadata": {
      "needs_background": "light"
     },
     "output_type": "display_data"
    }
   ],
   "source": [
    "\n",
    "print(\"Visualize training example\")\n",
    "visualize_example(workers_train_data[0],\n",
    "                    workers_train_targets[0], 32)\n",
    "print(\"Visuzalize test example\")\n",
    "\"\"\"visualize_example(hospitals_test_data[0],\n",
    "                    hospitals_test_labels[0], 2)\"\"\""
   ]
  },
  {
   "cell_type": "markdown",
   "metadata": {},
   "source": [
    "# Model \n"
   ]
  },
  {
   "cell_type": "code",
   "execution_count": 60,
   "metadata": {},
   "outputs": [],
   "source": [
    "## Define CNN modeL.\n",
    "from torch import nn,optim \n",
    "import torch.nn.functional as F\n",
    "\n",
    "class Net(nn.Module):\n",
    "    \n",
    "    def __init__(self):\n",
    "        super().__init__()\n",
    "        \n",
    "        \n",
    "        self.conv1 = nn.Conv2d(in_channels= 1,\n",
    "                               out_channels= 16,\n",
    "                               kernel_size = 3,\n",
    "                               stride = 1,\n",
    "                               padding = 1)\n",
    "        \n",
    "        self.pool1 = nn.MaxPool2d(kernel_size= 2,\n",
    "                                  stride = 2, \n",
    "                                 padding = 0 )\n",
    "        \n",
    "        self.conv2 = nn.Conv2d(in_channels= 16,\n",
    "                               out_channels= 32,\n",
    "                               kernel_size = 3,\n",
    "                               stride = 1,\n",
    "                               padding = 1)\n",
    "        \n",
    "        self.pool2 = nn.MaxPool2d(kernel_size= 2,\n",
    "                                  stride = 2, \n",
    "                                 padding = 0 )\n",
    "        \n",
    "        \n",
    "        #Fully connected layers\n",
    "        self.fc1 = nn.Linear(32*7*7, 128)\n",
    "        self.fc2 = nn.Linear(128,64)\n",
    "        self.output = nn.Linear(64,10)\n",
    "       \n",
    "        # Do not use Dropout in CNN\n",
    "        #self.dropout = nn.Dropout(0.2)\n",
    "    \n",
    "    \n",
    "    def forward(self, x ):\n",
    "        \n",
    "        \n",
    "        x = x.view(-1,1,28,28)\n",
    "        \n",
    "        #output shape (batch_size, 1, 28, 28)\n",
    "        x = self.conv1(x)\n",
    "        x = nn.BatchNorm2d(16)(x)\n",
    "        x = F.relu(x)\n",
    "        #output shape (batch_size, 16, 14, 14)\n",
    "        x= self.pool1(x)\n",
    "        \n",
    "        \n",
    "        #output shape (batch_size, 32, 14, 14)\n",
    "        x = self.conv2(x)\n",
    "        x = nn.BatchNorm2d(32)(x)\n",
    "        x = F.relu(x)\n",
    "        #output shape (batch_size, 32, 7, 7)\n",
    "        x = self.pool2(x)\n",
    "        \n",
    "        \n",
    "        \n",
    "        #flatten input as a vector\n",
    "        x = x.view(-1, 32*7*7) #or x.view(x.shape[0],32*7*7)\n",
    "        \n",
    "        x = self.fc1(x)\n",
    "        x = F.relu(x)\n",
    "         \n",
    "        x = self.fc2(x)\n",
    "        x = F.relu(x)\n",
    "               \n",
    "        x = self.output(x)\n",
    "        x = F.log_softmax(x, dim = 1 )\n",
    "        \n",
    "        return x "
   ]
  },
  {
   "cell_type": "code",
   "execution_count": 61,
   "metadata": {},
   "outputs": [],
   "source": [
    "import torch \n",
    "from torchvision import transforms\n",
    "import torch.utils.data as data_utils\n",
    "\n",
    "\n",
    "def train_model(trainset, trainlabels,testset, testlabels, epochs):\n",
    "    \n",
    "    \n",
    "    train_dataset = data_utils.TensorDataset(trainset,trainlabels)\n",
    "    trainloader = torch.utils.data.DataLoader(train_dataset, batch_size = 64, shuffle = False)\n",
    "    \n",
    "    test_dataset = data_utils.TensorDataset(testset, testlabels)\n",
    "    testloader = torch.utils.data.DataLoader(test_dataset,batch_size = 64, shuffle = False)\n",
    "    \n",
    "   \n",
    "    #GPU\n",
    "    device = torch.device(\"cuda\" if torch.cuda.is_available() else \"cpu\")\n",
    "    \n",
    "    \n",
    "    # Create network\n",
    "    model = Net()\n",
    "    # Model to GPU\n",
    "    model.to(device)\n",
    "    # Define loss\n",
    "    criterion = nn.NLLLoss()\n",
    "    # Create optimizer\n",
    "    optimizer = optim.Adam(model.parameters(), lr = 0.005)\n",
    "\n",
    "\n",
    "    train_losses, test_losses = [], []\n",
    "    for e in range(epochs):\n",
    "        \n",
    "        ### SET MODEL TO TRAIN MODE (turn on dropout)\n",
    "        model.train()\n",
    "\n",
    "        running_loss = 0\n",
    "        \n",
    "        for images, labels in trainloader:\n",
    "            optimizer.zero_grad()\n",
    "            \n",
    "            images, labels = images.to(device), labels.to(device).long()\n",
    "            \n",
    "            \n",
    "\n",
    "            log_ps = model(images)\n",
    "            loss = criterion(log_ps, labels)\n",
    "            loss.backward()\n",
    "            optimizer.step()\n",
    "\n",
    "            running_loss += loss.item()\n",
    "\n",
    "        else:\n",
    "            ## Validation pass and print out the validation accuracy\n",
    "\n",
    "            loss_val = 0 \n",
    "            accuracy = 0 \n",
    "\n",
    "\n",
    "            # Turn off gradients for validation, saves memory and computations\n",
    "            with torch.no_grad():\n",
    "\n",
    "                # set model to evaluation mode\n",
    "                model.eval()\n",
    "\n",
    "                # validation images and labels\n",
    "                for images_val, labels_val in testloader:\n",
    "                    \n",
    "                    images_val,labels_val =  images_val.to(device), labels_val.to(device).long()\n",
    "\n",
    "                    # make predition\n",
    "                    log_ps = model(images_val)\n",
    "                      \n",
    "                    loss_val += criterion(log_ps, labels_val)\n",
    "\n",
    "                    ps = torch.exp(log_ps)\n",
    "\n",
    "                    predicted_probs, predicted_labels = ps.topk(1, dim = 1)\n",
    "\n",
    "                    diff = predicted_labels == labels_val.view(*predicted_labels.shape)\n",
    "                    \n",
    "                    accuracy += torch.mean(diff.type(torch.FloatTensor)) \n",
    "\n",
    "\n",
    "            train_losses.append(running_loss/len(trainloader))\n",
    "            test_losses.append(loss_val/len(testloader))\n",
    "\n",
    "            print(\"Epoch: {}/{}.. \".format(e+1, epochs),\n",
    "                  \"Training Loss: {:.3f}.. \".format(running_loss/len(trainloader)),\n",
    "                  \"Validation Loss: {:.3f}.. \".format(loss_val/len(testloader)),\n",
    "                  \"Validation Accuracy: {:.3f}.. \".format(accuracy/len(testloader))\n",
    "                   )\n",
    "    return model, train_losses, test_losses   \n",
    "\n",
    "    "
   ]
  },
  {
   "cell_type": "markdown",
   "metadata": {},
   "source": [
    "### Test Model"
   ]
  },
  {
   "cell_type": "code",
   "execution_count": 62,
   "metadata": {},
   "outputs": [
    {
     "name": "stdout",
     "output_type": "stream",
     "text": [
      "Epoch: 1/100..  Training Loss: 0.653..  Validation Loss: 0.321..  Validation Accuracy: 0.898.. \n",
      "Epoch: 2/100..  Training Loss: 0.244..  Validation Loss: 0.233..  Validation Accuracy: 0.928.. \n",
      "Epoch: 3/100..  Training Loss: 0.175..  Validation Loss: 0.211..  Validation Accuracy: 0.932.. \n",
      "Epoch: 4/100..  Training Loss: 0.132..  Validation Loss: 0.180..  Validation Accuracy: 0.947.. \n",
      "Epoch: 5/100..  Training Loss: 0.111..  Validation Loss: 0.209..  Validation Accuracy: 0.937.. \n",
      "Epoch: 6/100..  Training Loss: 0.130..  Validation Loss: 0.167..  Validation Accuracy: 0.949.. \n",
      "Epoch: 7/100..  Training Loss: 0.091..  Validation Loss: 0.249..  Validation Accuracy: 0.937.. \n",
      "Epoch: 8/100..  Training Loss: 0.074..  Validation Loss: 0.156..  Validation Accuracy: 0.957.. \n",
      "Epoch: 9/100..  Training Loss: 0.069..  Validation Loss: 0.164..  Validation Accuracy: 0.955.. \n",
      "Epoch: 10/100..  Training Loss: 0.068..  Validation Loss: 0.162..  Validation Accuracy: 0.958.. \n",
      "Epoch: 11/100..  Training Loss: 0.054..  Validation Loss: 0.174..  Validation Accuracy: 0.953.. \n",
      "Epoch: 12/100..  Training Loss: 0.052..  Validation Loss: 0.156..  Validation Accuracy: 0.962.. \n",
      "Epoch: 13/100..  Training Loss: 0.054..  Validation Loss: 0.214..  Validation Accuracy: 0.951.. \n",
      "Epoch: 14/100..  Training Loss: 0.064..  Validation Loss: 0.196..  Validation Accuracy: 0.950.. \n",
      "Epoch: 15/100..  Training Loss: 0.062..  Validation Loss: 0.155..  Validation Accuracy: 0.960.. \n",
      "Epoch: 16/100..  Training Loss: 0.041..  Validation Loss: 0.177..  Validation Accuracy: 0.959.. \n",
      "Epoch: 17/100..  Training Loss: 0.048..  Validation Loss: 0.158..  Validation Accuracy: 0.962.. \n",
      "Epoch: 18/100..  Training Loss: 0.042..  Validation Loss: 0.173..  Validation Accuracy: 0.963.. \n",
      "Epoch: 19/100..  Training Loss: 0.071..  Validation Loss: 0.182..  Validation Accuracy: 0.956.. \n",
      "Epoch: 20/100..  Training Loss: 0.043..  Validation Loss: 0.179..  Validation Accuracy: 0.960.. \n",
      "Epoch: 21/100..  Training Loss: 0.048..  Validation Loss: 0.234..  Validation Accuracy: 0.953.. \n",
      "Epoch: 22/100..  Training Loss: 0.054..  Validation Loss: 0.199..  Validation Accuracy: 0.960.. \n",
      "Epoch: 23/100..  Training Loss: 0.042..  Validation Loss: 0.230..  Validation Accuracy: 0.950.. \n",
      "Epoch: 24/100..  Training Loss: 0.047..  Validation Loss: 0.209..  Validation Accuracy: 0.962.. \n",
      "Epoch: 25/100..  Training Loss: 0.039..  Validation Loss: 0.167..  Validation Accuracy: 0.965.. \n",
      "Epoch: 26/100..  Training Loss: 0.043..  Validation Loss: 0.244..  Validation Accuracy: 0.956.. \n",
      "Epoch: 27/100..  Training Loss: 0.053..  Validation Loss: 0.246..  Validation Accuracy: 0.952.. \n",
      "Epoch: 28/100..  Training Loss: 0.026..  Validation Loss: 0.164..  Validation Accuracy: 0.968.. \n",
      "Epoch: 29/100..  Training Loss: 0.020..  Validation Loss: 0.217..  Validation Accuracy: 0.964.. \n",
      "Epoch: 30/100..  Training Loss: 0.041..  Validation Loss: 0.209..  Validation Accuracy: 0.960.. \n",
      "Epoch: 31/100..  Training Loss: 0.026..  Validation Loss: 0.172..  Validation Accuracy: 0.968.. \n",
      "Epoch: 32/100..  Training Loss: 0.022..  Validation Loss: 0.188..  Validation Accuracy: 0.967.. \n",
      "Epoch: 33/100..  Training Loss: 0.016..  Validation Loss: 0.187..  Validation Accuracy: 0.964.. \n",
      "Epoch: 34/100..  Training Loss: 0.031..  Validation Loss: 0.219..  Validation Accuracy: 0.965.. \n",
      "Epoch: 35/100..  Training Loss: 0.037..  Validation Loss: 0.222..  Validation Accuracy: 0.961.. \n",
      "Epoch: 36/100..  Training Loss: 0.038..  Validation Loss: 0.192..  Validation Accuracy: 0.963.. \n",
      "Epoch: 37/100..  Training Loss: 0.029..  Validation Loss: 0.207..  Validation Accuracy: 0.964.. \n",
      "Epoch: 38/100..  Training Loss: 0.033..  Validation Loss: 0.250..  Validation Accuracy: 0.965.. \n",
      "Epoch: 39/100..  Training Loss: 0.059..  Validation Loss: 0.326..  Validation Accuracy: 0.931.. \n",
      "Epoch: 40/100..  Training Loss: 0.063..  Validation Loss: 0.195..  Validation Accuracy: 0.965.. \n",
      "Epoch: 41/100..  Training Loss: 0.052..  Validation Loss: 0.205..  Validation Accuracy: 0.966.. \n",
      "Epoch: 42/100..  Training Loss: 0.029..  Validation Loss: 0.223..  Validation Accuracy: 0.967.. \n",
      "Epoch: 43/100..  Training Loss: 0.019..  Validation Loss: 0.250..  Validation Accuracy: 0.963.. \n",
      "Epoch: 44/100..  Training Loss: 0.073..  Validation Loss: 0.254..  Validation Accuracy: 0.959.. \n",
      "Epoch: 45/100..  Training Loss: 0.046..  Validation Loss: 0.228..  Validation Accuracy: 0.965.. \n",
      "Epoch: 46/100..  Training Loss: 0.018..  Validation Loss: 0.233..  Validation Accuracy: 0.966.. \n",
      "Epoch: 47/100..  Training Loss: 0.022..  Validation Loss: 0.218..  Validation Accuracy: 0.962.. \n",
      "Epoch: 48/100..  Training Loss: 0.028..  Validation Loss: 0.210..  Validation Accuracy: 0.966.. \n",
      "Epoch: 49/100..  Training Loss: 0.015..  Validation Loss: 0.207..  Validation Accuracy: 0.965.. \n",
      "Epoch: 50/100..  Training Loss: 0.015..  Validation Loss: 0.213..  Validation Accuracy: 0.970.. \n",
      "Epoch: 51/100..  Training Loss: 0.019..  Validation Loss: 0.259..  Validation Accuracy: 0.962.. \n",
      "Epoch: 52/100..  Training Loss: 0.034..  Validation Loss: 0.224..  Validation Accuracy: 0.964.. \n",
      "Epoch: 53/100..  Training Loss: 0.021..  Validation Loss: 0.228..  Validation Accuracy: 0.966.. \n",
      "Epoch: 54/100..  Training Loss: 0.028..  Validation Loss: 0.280..  Validation Accuracy: 0.962.. \n",
      "Epoch: 55/100..  Training Loss: 0.035..  Validation Loss: 0.293..  Validation Accuracy: 0.957.. \n",
      "Epoch: 56/100..  Training Loss: 0.032..  Validation Loss: 0.235..  Validation Accuracy: 0.966.. \n",
      "Epoch: 57/100..  Training Loss: 0.023..  Validation Loss: 0.272..  Validation Accuracy: 0.961.. \n",
      "Epoch: 58/100..  Training Loss: 0.024..  Validation Loss: 0.259..  Validation Accuracy: 0.964.. \n",
      "Epoch: 59/100..  Training Loss: 0.027..  Validation Loss: 0.273..  Validation Accuracy: 0.964.. \n",
      "Epoch: 60/100..  Training Loss: 0.035..  Validation Loss: 0.265..  Validation Accuracy: 0.963.. \n",
      "Epoch: 61/100..  Training Loss: 0.028..  Validation Loss: 0.238..  Validation Accuracy: 0.965.. \n",
      "Epoch: 62/100..  Training Loss: 0.019..  Validation Loss: 0.302..  Validation Accuracy: 0.961.. \n",
      "Epoch: 63/100..  Training Loss: 0.022..  Validation Loss: 0.330..  Validation Accuracy: 0.963.. \n",
      "Epoch: 64/100..  Training Loss: 0.031..  Validation Loss: 0.273..  Validation Accuracy: 0.966.. \n",
      "Epoch: 65/100..  Training Loss: 0.011..  Validation Loss: 0.257..  Validation Accuracy: 0.965.. \n",
      "Epoch: 66/100..  Training Loss: 0.029..  Validation Loss: 0.279..  Validation Accuracy: 0.963.. \n",
      "Epoch: 67/100..  Training Loss: 0.028..  Validation Loss: 0.325..  Validation Accuracy: 0.958.. \n",
      "Epoch: 68/100..  Training Loss: 0.033..  Validation Loss: 0.304..  Validation Accuracy: 0.956.. \n",
      "Epoch: 69/100..  Training Loss: 0.023..  Validation Loss: 0.261..  Validation Accuracy: 0.967.. \n",
      "Epoch: 70/100..  Training Loss: 0.028..  Validation Loss: 0.357..  Validation Accuracy: 0.957.. \n",
      "Epoch: 71/100..  Training Loss: 0.028..  Validation Loss: 0.389..  Validation Accuracy: 0.956.. \n",
      "Epoch: 72/100..  Training Loss: 0.054..  Validation Loss: 0.283..  Validation Accuracy: 0.965.. \n",
      "Epoch: 73/100..  Training Loss: 0.035..  Validation Loss: 0.250..  Validation Accuracy: 0.964.. \n",
      "Epoch: 74/100..  Training Loss: 0.015..  Validation Loss: 0.258..  Validation Accuracy: 0.965.. \n",
      "Epoch: 75/100..  Training Loss: 0.023..  Validation Loss: 0.313..  Validation Accuracy: 0.960.. \n",
      "Epoch: 76/100..  Training Loss: 0.027..  Validation Loss: 0.298..  Validation Accuracy: 0.965.. \n",
      "Epoch: 77/100..  Training Loss: 0.030..  Validation Loss: 0.324..  Validation Accuracy: 0.965.. \n",
      "Epoch: 78/100..  Training Loss: 0.037..  Validation Loss: 0.263..  Validation Accuracy: 0.965.. \n",
      "Epoch: 79/100..  Training Loss: 0.022..  Validation Loss: 0.273..  Validation Accuracy: 0.969.. \n",
      "Epoch: 80/100..  Training Loss: 0.010..  Validation Loss: 0.304..  Validation Accuracy: 0.964.. \n",
      "Epoch: 81/100..  Training Loss: 0.009..  Validation Loss: 0.272..  Validation Accuracy: 0.967.. \n",
      "Epoch: 82/100..  Training Loss: 0.019..  Validation Loss: 0.315..  Validation Accuracy: 0.963.. \n",
      "Epoch: 83/100..  Training Loss: 0.012..  Validation Loss: 0.297..  Validation Accuracy: 0.967.. \n",
      "Epoch: 84/100..  Training Loss: 0.013..  Validation Loss: 0.311..  Validation Accuracy: 0.967.. \n",
      "Epoch: 85/100..  Training Loss: 0.014..  Validation Loss: 0.354..  Validation Accuracy: 0.962.. \n"
     ]
    },
    {
     "name": "stdout",
     "output_type": "stream",
     "text": [
      "Epoch: 86/100..  Training Loss: 0.009..  Validation Loss: 0.303..  Validation Accuracy: 0.967.. \n",
      "Epoch: 87/100..  Training Loss: 0.012..  Validation Loss: 0.330..  Validation Accuracy: 0.966.. \n",
      "Epoch: 88/100..  Training Loss: 0.056..  Validation Loss: 0.328..  Validation Accuracy: 0.960.. \n",
      "Epoch: 89/100..  Training Loss: 0.049..  Validation Loss: 0.314..  Validation Accuracy: 0.963.. \n",
      "Epoch: 90/100..  Training Loss: 0.028..  Validation Loss: 0.319..  Validation Accuracy: 0.963.. \n",
      "Epoch: 91/100..  Training Loss: 0.034..  Validation Loss: 0.266..  Validation Accuracy: 0.969.. \n",
      "Epoch: 92/100..  Training Loss: 0.020..  Validation Loss: 0.313..  Validation Accuracy: 0.964.. \n",
      "Epoch: 93/100..  Training Loss: 0.018..  Validation Loss: 0.371..  Validation Accuracy: 0.962.. \n",
      "Epoch: 94/100..  Training Loss: 0.042..  Validation Loss: 0.303..  Validation Accuracy: 0.963.. \n",
      "Epoch: 95/100..  Training Loss: 0.028..  Validation Loss: 0.305..  Validation Accuracy: 0.966.. \n",
      "Epoch: 96/100..  Training Loss: 0.039..  Validation Loss: 0.353..  Validation Accuracy: 0.963.. \n",
      "Epoch: 97/100..  Training Loss: 0.030..  Validation Loss: 0.285..  Validation Accuracy: 0.968.. \n",
      "Epoch: 98/100..  Training Loss: 0.014..  Validation Loss: 0.239..  Validation Accuracy: 0.970.. \n",
      "Epoch: 99/100..  Training Loss: 0.008..  Validation Loss: 0.298..  Validation Accuracy: 0.964.. \n",
      "Epoch: 100/100..  Training Loss: 0.022..  Validation Loss: 0.306..  Validation Accuracy: 0.966.. \n"
     ]
    }
   ],
   "source": [
    "model, train_losses, test_losses= train_model(workers_train_data[0],\n",
    "                    workers_train_targets[0],\n",
    "                    workers_train_data[1],\n",
    "                    workers_train_targets[1],\n",
    "                    epochs = 20)\n"
   ]
  },
  {
   "cell_type": "markdown",
   "metadata": {},
   "source": [
    "## Visualize Train and Validation Loss"
   ]
  },
  {
   "cell_type": "code",
   "execution_count": 75,
   "metadata": {},
   "outputs": [],
   "source": [
    "%matplotlib inline\n",
    "%config InlineBackend.figure_format = 'retina'\n",
    "\n",
    "import matplotlib.pyplot as plt\n",
    "\n",
    "def  visualize_losses(train_losses, test_losses):\n",
    "    plt.plot(train_losses, label='Training loss')\n",
    "    plt.plot(test_losses, label='Validation loss')\n",
    "    plt.legend(frameon=False)\n",
    "    \n",
    "    "
   ]
  },
  {
   "cell_type": "code",
   "execution_count": 63,
   "metadata": {},
   "outputs": [],
   "source": [
    "%matplotlib inline\n",
    "%config InlineBackend.figure_format = 'retina'\n",
    "\n",
    "import matplotlib.pyplot as plt"
   ]
  },
  {
   "cell_type": "code",
   "execution_count": 64,
   "metadata": {},
   "outputs": [
    {
     "data": {
      "text/plain": [
       "<matplotlib.legend.Legend at 0x27c39d6fba8>"
      ]
     },
     "execution_count": 64,
     "metadata": {},
     "output_type": "execute_result"
    },
    {
     "data": {
      "image/png": "[encoded data removed]",
      "text/plain": [
       "<Figure size 432x288 with 1 Axes>"
      ]
     },
     "metadata": {
      "image/png": {
       "height": 248,
       "width": 372
      },
      "needs_background": "light"
     },
     "output_type": "display_data"
    }
   ],
   "source": [
    "plt.plot(train_losses, label='Training loss')\n",
    "plt.plot(test_losses, label='Validation loss')\n",
    "plt.legend(frameon=False)"
   ]
  },
  {
   "cell_type": "markdown",
   "metadata": {},
   "source": [
    "# Inference "
   ]
  },
  {
   "cell_type": "code",
   "execution_count": 70,
   "metadata": {},
   "outputs": [
    {
     "data": {
      "image/png": "[encoded data removed]",
      "text/plain": [
       "<Figure size 432x648 with 2 Axes>"
      ]
     },
     "metadata": {
      "image/png": {
       "height": 235,
       "width": 424
      },
      "needs_background": "light"
     },
     "output_type": "display_data"
    }
   ],
   "source": [
    "# Import helper module (should be in the repo)\n",
    "import helper\n",
    "\n",
    "#set device \n",
    "device = torch.device(\"cuda\" if torch.cuda.is_available() else \"cpu\")\n",
    "    \n",
    "# Model to evaluation mode. No grads.\n",
    "model.eval()\n",
    "\n",
    "k = 73\n",
    "label = test_targets[k]\n",
    "img = test_data[k]\n",
    "\n",
    "\n",
    "img_gpu = img.cuda()\n",
    "\n",
    "\n",
    "# Calculate the class probabilities (log-softmax) for img\n",
    "with torch.no_grad():\n",
    "    output = model.forward(img_gpu)\n",
    "\n",
    "ps = torch.exp(output)\n",
    "\n",
    "#Move to CPU  and convert to numpy to plot\n",
    "imge = img.view(1,28,28)\n",
    "img = img.float()\n",
    "\n",
    "\n",
    "\n",
    "# Plot the image and probabilities\n",
    "helper.view_classify(img, ps, version='MNIST')"
   ]
  },
  {
   "cell_type": "markdown",
   "metadata": {},
   "source": [
    "### Reload Modules"
   ]
  },
  {
   "cell_type": "code",
   "execution_count": 76,
   "metadata": {},
   "outputs": [],
   "source": [
    "%reload_ext autoreload"
   ]
  },
  {
   "cell_type": "code",
   "execution_count": 77,
   "metadata": {},
   "outputs": [],
   "source": [
    "%autoreload 2"
   ]
  },
  {
   "cell_type": "markdown",
   "metadata": {},
   "source": [
    "# TRAIN Workers"
   ]
  },
  {
   "cell_type": "code",
   "execution_count": 78,
   "metadata": {},
   "outputs": [
    {
     "name": "stdout",
     "output_type": "stream",
     "text": [
      "Epoch: 1/20..  Training Loss: 0.606..  Validation Loss: 0.349..  Validation Accuracy: 0.893.. \n",
      "Epoch: 2/20..  Training Loss: 0.207..  Validation Loss: 0.249..  Validation Accuracy: 0.923.. \n",
      "Epoch: 3/20..  Training Loss: 0.146..  Validation Loss: 0.293..  Validation Accuracy: 0.909.. \n",
      "Epoch: 4/20..  Training Loss: 0.136..  Validation Loss: 0.194..  Validation Accuracy: 0.948.. \n",
      "Epoch: 5/20..  Training Loss: 0.105..  Validation Loss: 0.172..  Validation Accuracy: 0.950.. \n",
      "Epoch: 6/20..  Training Loss: 0.093..  Validation Loss: 0.176..  Validation Accuracy: 0.950.. \n",
      "Epoch: 7/20..  Training Loss: 0.081..  Validation Loss: 0.145..  Validation Accuracy: 0.959.. \n",
      "Epoch: 8/20..  Training Loss: 0.080..  Validation Loss: 0.192..  Validation Accuracy: 0.947.. \n",
      "Epoch: 9/20..  Training Loss: 0.097..  Validation Loss: 0.384..  Validation Accuracy: 0.897.. \n",
      "Epoch: 10/20..  Training Loss: 0.099..  Validation Loss: 0.184..  Validation Accuracy: 0.957.. \n",
      "Epoch: 11/20..  Training Loss: 0.059..  Validation Loss: 0.184..  Validation Accuracy: 0.951.. \n",
      "Epoch: 12/20..  Training Loss: 0.054..  Validation Loss: 0.165..  Validation Accuracy: 0.957.. \n",
      "Epoch: 13/20..  Training Loss: 0.042..  Validation Loss: 0.214..  Validation Accuracy: 0.951.. \n",
      "Epoch: 14/20..  Training Loss: 0.048..  Validation Loss: 0.147..  Validation Accuracy: 0.966.. \n",
      "Epoch: 15/20..  Training Loss: 0.038..  Validation Loss: 0.176..  Validation Accuracy: 0.961.. \n",
      "Epoch: 16/20..  Training Loss: 0.049..  Validation Loss: 0.262..  Validation Accuracy: 0.947.. \n",
      "Epoch: 17/20..  Training Loss: 0.054..  Validation Loss: 0.187..  Validation Accuracy: 0.959.. \n",
      "Epoch: 18/20..  Training Loss: 0.041..  Validation Loss: 0.205..  Validation Accuracy: 0.957.. \n",
      "Epoch: 19/20..  Training Loss: 0.044..  Validation Loss: 0.214..  Validation Accuracy: 0.961.. \n",
      "Epoch: 20/20..  Training Loss: 0.035..  Validation Loss: 0.180..  Validation Accuracy: 0.963.. \n",
      "Epoch: 1/20..  Training Loss: 0.703..  Validation Loss: 0.374..  Validation Accuracy: 0.879.. \n",
      "Epoch: 2/20..  Training Loss: 0.287..  Validation Loss: 0.273..  Validation Accuracy: 0.917.. \n",
      "Epoch: 3/20..  Training Loss: 0.201..  Validation Loss: 0.235..  Validation Accuracy: 0.926.. \n",
      "Epoch: 4/20..  Training Loss: 0.144..  Validation Loss: 0.165..  Validation Accuracy: 0.951.. \n",
      "Epoch: 5/20..  Training Loss: 0.124..  Validation Loss: 0.222..  Validation Accuracy: 0.930.. \n",
      "Epoch: 6/20..  Training Loss: 0.117..  Validation Loss: 0.192..  Validation Accuracy: 0.944.. \n",
      "Epoch: 7/20..  Training Loss: 0.105..  Validation Loss: 0.199..  Validation Accuracy: 0.944.. \n",
      "Epoch: 8/20..  Training Loss: 0.080..  Validation Loss: 0.170..  Validation Accuracy: 0.952.. \n",
      "Epoch: 9/20..  Training Loss: 0.076..  Validation Loss: 0.194..  Validation Accuracy: 0.947.. \n",
      "Epoch: 10/20..  Training Loss: 0.068..  Validation Loss: 0.146..  Validation Accuracy: 0.960.. \n",
      "Epoch: 11/20..  Training Loss: 0.058..  Validation Loss: 0.186..  Validation Accuracy: 0.951.. \n",
      "Epoch: 12/20..  Training Loss: 0.072..  Validation Loss: 0.132..  Validation Accuracy: 0.963.. \n",
      "Epoch: 13/20..  Training Loss: 0.065..  Validation Loss: 0.179..  Validation Accuracy: 0.955.. \n",
      "Epoch: 14/20..  Training Loss: 0.052..  Validation Loss: 0.128..  Validation Accuracy: 0.964.. \n",
      "Epoch: 15/20..  Training Loss: 0.049..  Validation Loss: 0.137..  Validation Accuracy: 0.962.. \n",
      "Epoch: 16/20..  Training Loss: 0.035..  Validation Loss: 0.147..  Validation Accuracy: 0.966.. \n",
      "Epoch: 17/20..  Training Loss: 0.045..  Validation Loss: 0.169..  Validation Accuracy: 0.956.. \n",
      "Epoch: 18/20..  Training Loss: 0.052..  Validation Loss: 0.174..  Validation Accuracy: 0.957.. \n",
      "Epoch: 19/20..  Training Loss: 0.048..  Validation Loss: 0.151..  Validation Accuracy: 0.964.. \n",
      "Epoch: 20/20..  Training Loss: 0.040..  Validation Loss: 0.164..  Validation Accuracy: 0.961.. \n",
      "Epoch: 1/20..  Training Loss: 0.739..  Validation Loss: 0.236..  Validation Accuracy: 0.933.. \n",
      "Epoch: 2/20..  Training Loss: 0.262..  Validation Loss: 0.190..  Validation Accuracy: 0.942.. \n",
      "Epoch: 3/20..  Training Loss: 0.170..  Validation Loss: 0.162..  Validation Accuracy: 0.949.. \n",
      "Epoch: 4/20..  Training Loss: 0.133..  Validation Loss: 0.123..  Validation Accuracy: 0.963.. \n",
      "Epoch: 5/20..  Training Loss: 0.118..  Validation Loss: 0.143..  Validation Accuracy: 0.958.. \n",
      "Epoch: 6/20..  Training Loss: 0.123..  Validation Loss: 0.130..  Validation Accuracy: 0.964.. \n",
      "Epoch: 7/20..  Training Loss: 0.090..  Validation Loss: 0.168..  Validation Accuracy: 0.951.. \n",
      "Epoch: 8/20..  Training Loss: 0.080..  Validation Loss: 0.121..  Validation Accuracy: 0.965.. \n",
      "Epoch: 9/20..  Training Loss: 0.084..  Validation Loss: 0.130..  Validation Accuracy: 0.963.. \n",
      "Epoch: 10/20..  Training Loss: 0.062..  Validation Loss: 0.104..  Validation Accuracy: 0.972.. \n",
      "Epoch: 11/20..  Training Loss: 0.049..  Validation Loss: 0.113..  Validation Accuracy: 0.971.. \n",
      "Epoch: 12/20..  Training Loss: 0.051..  Validation Loss: 0.110..  Validation Accuracy: 0.973.. \n",
      "Epoch: 13/20..  Training Loss: 0.040..  Validation Loss: 0.180..  Validation Accuracy: 0.961.. \n",
      "Epoch: 14/20..  Training Loss: 0.058..  Validation Loss: 0.106..  Validation Accuracy: 0.974.. \n",
      "Epoch: 15/20..  Training Loss: 0.045..  Validation Loss: 0.113..  Validation Accuracy: 0.972.. \n",
      "Epoch: 16/20..  Training Loss: 0.058..  Validation Loss: 0.132..  Validation Accuracy: 0.970.. \n",
      "Epoch: 17/20..  Training Loss: 0.049..  Validation Loss: 0.115..  Validation Accuracy: 0.970.. \n",
      "Epoch: 18/20..  Training Loss: 0.041..  Validation Loss: 0.142..  Validation Accuracy: 0.967.. \n",
      "Epoch: 19/20..  Training Loss: 0.052..  Validation Loss: 0.131..  Validation Accuracy: 0.971.. \n",
      "Epoch: 20/20..  Training Loss: 0.056..  Validation Loss: 0.132..  Validation Accuracy: 0.970.. \n",
      "Epoch: 1/20..  Training Loss: 0.646..  Validation Loss: 0.348..  Validation Accuracy: 0.882.. \n",
      "Epoch: 2/20..  Training Loss: 0.212..  Validation Loss: 0.281..  Validation Accuracy: 0.917.. \n",
      "Epoch: 3/20..  Training Loss: 0.158..  Validation Loss: 0.204..  Validation Accuracy: 0.940.. \n",
      "Epoch: 4/20..  Training Loss: 0.110..  Validation Loss: 0.161..  Validation Accuracy: 0.955.. \n",
      "Epoch: 5/20..  Training Loss: 0.098..  Validation Loss: 0.144..  Validation Accuracy: 0.963.. \n",
      "Epoch: 6/20..  Training Loss: 0.093..  Validation Loss: 0.177..  Validation Accuracy: 0.953.. \n",
      "Epoch: 7/20..  Training Loss: 0.075..  Validation Loss: 0.153..  Validation Accuracy: 0.958.. \n",
      "Epoch: 8/20..  Training Loss: 0.088..  Validation Loss: 0.160..  Validation Accuracy: 0.957.. \n",
      "Epoch: 9/20..  Training Loss: 0.077..  Validation Loss: 0.195..  Validation Accuracy: 0.953.. \n",
      "Epoch: 10/20..  Training Loss: 0.067..  Validation Loss: 0.259..  Validation Accuracy: 0.933.. \n",
      "Epoch: 11/20..  Training Loss: 0.046..  Validation Loss: 0.141..  Validation Accuracy: 0.968.. \n",
      "Epoch: 12/20..  Training Loss: 0.042..  Validation Loss: 0.214..  Validation Accuracy: 0.954.. \n",
      "Epoch: 13/20..  Training Loss: 0.043..  Validation Loss: 0.181..  Validation Accuracy: 0.959.. \n",
      "Epoch: 14/20..  Training Loss: 0.043..  Validation Loss: 0.194..  Validation Accuracy: 0.966.. \n",
      "Epoch: 15/20..  Training Loss: 0.045..  Validation Loss: 0.263..  Validation Accuracy: 0.939.. \n",
      "Epoch: 16/20..  Training Loss: 0.078..  Validation Loss: 0.215..  Validation Accuracy: 0.954.. \n",
      "Epoch: 17/20..  Training Loss: 0.047..  Validation Loss: 0.154..  Validation Accuracy: 0.968.. \n",
      "Epoch: 18/20..  Training Loss: 0.059..  Validation Loss: 0.143..  Validation Accuracy: 0.966.. \n",
      "Epoch: 19/20..  Training Loss: 0.056..  Validation Loss: 0.179..  Validation Accuracy: 0.965.. \n",
      "Epoch: 20/20..  Training Loss: 0.031..  Validation Loss: 0.166..  Validation Accuracy: 0.966.. \n",
      "Epoch: 1/20..  Training Loss: 0.766..  Validation Loss: 0.370..  Validation Accuracy: 0.888.. \n",
      "Epoch: 2/20..  Training Loss: 0.228..  Validation Loss: 0.259..  Validation Accuracy: 0.919.. \n",
      "Epoch: 3/20..  Training Loss: 0.153..  Validation Loss: 0.236..  Validation Accuracy: 0.927.. \n",
      "Epoch: 4/20..  Training Loss: 0.122..  Validation Loss: 0.192..  Validation Accuracy: 0.941.. \n",
      "Epoch: 5/20..  Training Loss: 0.121..  Validation Loss: 0.159..  Validation Accuracy: 0.954.. \n",
      "Epoch: 6/20..  Training Loss: 0.130..  Validation Loss: 0.165..  Validation Accuracy: 0.954.. \n"
     ]
    },
    {
     "name": "stdout",
     "output_type": "stream",
     "text": [
      "Epoch: 7/20..  Training Loss: 0.092..  Validation Loss: 0.147..  Validation Accuracy: 0.960.. \n",
      "Epoch: 8/20..  Training Loss: 0.075..  Validation Loss: 0.131..  Validation Accuracy: 0.964.. \n",
      "Epoch: 9/20..  Training Loss: 0.061..  Validation Loss: 0.178..  Validation Accuracy: 0.953.. \n",
      "Epoch: 10/20..  Training Loss: 0.083..  Validation Loss: 0.187..  Validation Accuracy: 0.950.. \n",
      "Epoch: 11/20..  Training Loss: 0.082..  Validation Loss: 0.150..  Validation Accuracy: 0.965.. \n",
      "Epoch: 12/20..  Training Loss: 0.039..  Validation Loss: 0.145..  Validation Accuracy: 0.963.. \n",
      "Epoch: 13/20..  Training Loss: 0.037..  Validation Loss: 0.157..  Validation Accuracy: 0.963.. \n",
      "Epoch: 14/20..  Training Loss: 0.052..  Validation Loss: 0.175..  Validation Accuracy: 0.958.. \n",
      "Epoch: 15/20..  Training Loss: 0.055..  Validation Loss: 0.200..  Validation Accuracy: 0.953.. \n",
      "Epoch: 16/20..  Training Loss: 0.066..  Validation Loss: 0.180..  Validation Accuracy: 0.957.. \n",
      "Epoch: 17/20..  Training Loss: 0.056..  Validation Loss: 0.139..  Validation Accuracy: 0.967.. \n",
      "Epoch: 18/20..  Training Loss: 0.041..  Validation Loss: 0.196..  Validation Accuracy: 0.956.. \n",
      "Epoch: 19/20..  Training Loss: 0.048..  Validation Loss: 0.198..  Validation Accuracy: 0.961.. \n",
      "Epoch: 20/20..  Training Loss: 0.034..  Validation Loss: 0.135..  Validation Accuracy: 0.971.. \n",
      "Epoch: 1/20..  Training Loss: 0.746..  Validation Loss: 0.302..  Validation Accuracy: 0.907.. \n",
      "Epoch: 2/20..  Training Loss: 0.255..  Validation Loss: 0.226..  Validation Accuracy: 0.928.. \n",
      "Epoch: 3/20..  Training Loss: 0.202..  Validation Loss: 0.221..  Validation Accuracy: 0.934.. \n",
      "Epoch: 4/20..  Training Loss: 0.163..  Validation Loss: 0.193..  Validation Accuracy: 0.944.. \n",
      "Epoch: 5/20..  Training Loss: 0.121..  Validation Loss: 0.174..  Validation Accuracy: 0.951.. \n",
      "Epoch: 6/20..  Training Loss: 0.090..  Validation Loss: 0.155..  Validation Accuracy: 0.954.. \n",
      "Epoch: 7/20..  Training Loss: 0.090..  Validation Loss: 0.218..  Validation Accuracy: 0.944.. \n",
      "Epoch: 8/20..  Training Loss: 0.094..  Validation Loss: 0.197..  Validation Accuracy: 0.947.. \n",
      "Epoch: 9/20..  Training Loss: 0.080..  Validation Loss: 0.153..  Validation Accuracy: 0.960.. \n",
      "Epoch: 10/20..  Training Loss: 0.059..  Validation Loss: 0.158..  Validation Accuracy: 0.959.. \n",
      "Epoch: 11/20..  Training Loss: 0.066..  Validation Loss: 0.165..  Validation Accuracy: 0.958.. \n",
      "Epoch: 12/20..  Training Loss: 0.045..  Validation Loss: 0.177..  Validation Accuracy: 0.958.. \n",
      "Epoch: 13/20..  Training Loss: 0.049..  Validation Loss: 0.173..  Validation Accuracy: 0.957.. \n",
      "Epoch: 14/20..  Training Loss: 0.056..  Validation Loss: 0.167..  Validation Accuracy: 0.962.. \n",
      "Epoch: 15/20..  Training Loss: 0.058..  Validation Loss: 0.202..  Validation Accuracy: 0.955.. \n",
      "Epoch: 16/20..  Training Loss: 0.062..  Validation Loss: 0.228..  Validation Accuracy: 0.947.. \n",
      "Epoch: 17/20..  Training Loss: 0.071..  Validation Loss: 0.193..  Validation Accuracy: 0.957.. \n",
      "Epoch: 18/20..  Training Loss: 0.044..  Validation Loss: 0.216..  Validation Accuracy: 0.957.. \n",
      "Epoch: 19/20..  Training Loss: 0.054..  Validation Loss: 0.209..  Validation Accuracy: 0.954.. \n",
      "Epoch: 20/20..  Training Loss: 0.058..  Validation Loss: 0.214..  Validation Accuracy: 0.955.. \n",
      "Epoch: 1/20..  Training Loss: 0.692..  Validation Loss: 0.316..  Validation Accuracy: 0.902.. \n",
      "Epoch: 2/20..  Training Loss: 0.258..  Validation Loss: 0.252..  Validation Accuracy: 0.926.. \n",
      "Epoch: 3/20..  Training Loss: 0.183..  Validation Loss: 0.221..  Validation Accuracy: 0.939.. \n",
      "Epoch: 4/20..  Training Loss: 0.146..  Validation Loss: 0.226..  Validation Accuracy: 0.934.. \n",
      "Epoch: 5/20..  Training Loss: 0.137..  Validation Loss: 0.193..  Validation Accuracy: 0.940.. \n",
      "Epoch: 6/20..  Training Loss: 0.116..  Validation Loss: 0.222..  Validation Accuracy: 0.942.. \n",
      "Epoch: 7/20..  Training Loss: 0.090..  Validation Loss: 0.163..  Validation Accuracy: 0.956.. \n",
      "Epoch: 8/20..  Training Loss: 0.117..  Validation Loss: 0.240..  Validation Accuracy: 0.939.. \n",
      "Epoch: 9/20..  Training Loss: 0.070..  Validation Loss: 0.164..  Validation Accuracy: 0.957.. \n",
      "Epoch: 10/20..  Training Loss: 0.069..  Validation Loss: 0.202..  Validation Accuracy: 0.950.. \n",
      "Epoch: 11/20..  Training Loss: 0.063..  Validation Loss: 0.155..  Validation Accuracy: 0.962.. \n",
      "Epoch: 12/20..  Training Loss: 0.065..  Validation Loss: 0.193..  Validation Accuracy: 0.952.. \n",
      "Epoch: 13/20..  Training Loss: 0.083..  Validation Loss: 0.242..  Validation Accuracy: 0.946.. \n",
      "Epoch: 14/20..  Training Loss: 0.063..  Validation Loss: 0.193..  Validation Accuracy: 0.955.. \n",
      "Epoch: 15/20..  Training Loss: 0.056..  Validation Loss: 0.197..  Validation Accuracy: 0.953.. \n",
      "Epoch: 16/20..  Training Loss: 0.068..  Validation Loss: 0.284..  Validation Accuracy: 0.940.. \n",
      "Epoch: 17/20..  Training Loss: 0.072..  Validation Loss: 0.230..  Validation Accuracy: 0.949.. \n",
      "Epoch: 18/20..  Training Loss: 0.047..  Validation Loss: 0.193..  Validation Accuracy: 0.959.. \n",
      "Epoch: 19/20..  Training Loss: 0.040..  Validation Loss: 0.261..  Validation Accuracy: 0.939.. \n",
      "Epoch: 20/20..  Training Loss: 0.053..  Validation Loss: 0.178..  Validation Accuracy: 0.959.. \n",
      "Epoch: 1/20..  Training Loss: 0.714..  Validation Loss: 0.521..  Validation Accuracy: 0.842.. \n",
      "Epoch: 2/20..  Training Loss: 0.273..  Validation Loss: 0.267..  Validation Accuracy: 0.916.. \n",
      "Epoch: 3/20..  Training Loss: 0.199..  Validation Loss: 0.268..  Validation Accuracy: 0.915.. \n",
      "Epoch: 4/20..  Training Loss: 0.151..  Validation Loss: 0.228..  Validation Accuracy: 0.926.. \n",
      "Epoch: 5/20..  Training Loss: 0.136..  Validation Loss: 0.242..  Validation Accuracy: 0.925.. \n",
      "Epoch: 6/20..  Training Loss: 0.110..  Validation Loss: 0.223..  Validation Accuracy: 0.938.. \n",
      "Epoch: 7/20..  Training Loss: 0.081..  Validation Loss: 0.246..  Validation Accuracy: 0.938.. \n",
      "Epoch: 8/20..  Training Loss: 0.100..  Validation Loss: 0.199..  Validation Accuracy: 0.941.. \n",
      "Epoch: 9/20..  Training Loss: 0.093..  Validation Loss: 0.142..  Validation Accuracy: 0.964.. \n",
      "Epoch: 10/20..  Training Loss: 0.072..  Validation Loss: 0.186..  Validation Accuracy: 0.949.. \n",
      "Epoch: 11/20..  Training Loss: 0.063..  Validation Loss: 0.164..  Validation Accuracy: 0.961.. \n",
      "Epoch: 12/20..  Training Loss: 0.068..  Validation Loss: 0.166..  Validation Accuracy: 0.960.. \n",
      "Epoch: 13/20..  Training Loss: 0.062..  Validation Loss: 0.144..  Validation Accuracy: 0.962.. \n",
      "Epoch: 14/20..  Training Loss: 0.046..  Validation Loss: 0.157..  Validation Accuracy: 0.963.. \n",
      "Epoch: 15/20..  Training Loss: 0.040..  Validation Loss: 0.160..  Validation Accuracy: 0.963.. \n",
      "Epoch: 16/20..  Training Loss: 0.044..  Validation Loss: 0.175..  Validation Accuracy: 0.959.. \n",
      "Epoch: 17/20..  Training Loss: 0.039..  Validation Loss: 0.179..  Validation Accuracy: 0.963.. \n",
      "Epoch: 18/20..  Training Loss: 0.062..  Validation Loss: 0.171..  Validation Accuracy: 0.966.. \n",
      "Epoch: 19/20..  Training Loss: 0.082..  Validation Loss: 0.221..  Validation Accuracy: 0.952.. \n",
      "Epoch: 20/20..  Training Loss: 0.047..  Validation Loss: 0.165..  Validation Accuracy: 0.967.. \n",
      "Epoch: 1/20..  Training Loss: 0.835..  Validation Loss: 0.343..  Validation Accuracy: 0.885.. \n",
      "Epoch: 2/20..  Training Loss: 0.287..  Validation Loss: 0.234..  Validation Accuracy: 0.923.. \n",
      "Epoch: 3/20..  Training Loss: 0.194..  Validation Loss: 0.136..  Validation Accuracy: 0.959.. \n",
      "Epoch: 4/20..  Training Loss: 0.136..  Validation Loss: 0.142..  Validation Accuracy: 0.956.. \n",
      "Epoch: 5/20..  Training Loss: 0.136..  Validation Loss: 0.161..  Validation Accuracy: 0.950.. \n",
      "Epoch: 6/20..  Training Loss: 0.107..  Validation Loss: 0.116..  Validation Accuracy: 0.968.. \n",
      "Epoch: 7/20..  Training Loss: 0.089..  Validation Loss: 0.151..  Validation Accuracy: 0.956.. \n",
      "Epoch: 8/20..  Training Loss: 0.079..  Validation Loss: 0.102..  Validation Accuracy: 0.971.. \n",
      "Epoch: 9/20..  Training Loss: 0.061..  Validation Loss: 0.132..  Validation Accuracy: 0.964.. \n",
      "Epoch: 10/20..  Training Loss: 0.081..  Validation Loss: 0.130..  Validation Accuracy: 0.966.. \n",
      "Epoch: 11/20..  Training Loss: 0.065..  Validation Loss: 0.133..  Validation Accuracy: 0.969.. \n",
      "Epoch: 12/20..  Training Loss: 0.046..  Validation Loss: 0.115..  Validation Accuracy: 0.970.. \n"
     ]
    },
    {
     "name": "stdout",
     "output_type": "stream",
     "text": [
      "Epoch: 13/20..  Training Loss: 0.055..  Validation Loss: 0.119..  Validation Accuracy: 0.968.. \n",
      "Epoch: 14/20..  Training Loss: 0.071..  Validation Loss: 0.157..  Validation Accuracy: 0.957.. \n",
      "Epoch: 15/20..  Training Loss: 0.057..  Validation Loss: 0.116..  Validation Accuracy: 0.972.. \n",
      "Epoch: 16/20..  Training Loss: 0.056..  Validation Loss: 0.132..  Validation Accuracy: 0.966.. \n",
      "Epoch: 17/20..  Training Loss: 0.036..  Validation Loss: 0.138..  Validation Accuracy: 0.968.. \n",
      "Epoch: 18/20..  Training Loss: 0.048..  Validation Loss: 0.148..  Validation Accuracy: 0.967.. \n",
      "Epoch: 19/20..  Training Loss: 0.059..  Validation Loss: 0.142..  Validation Accuracy: 0.969.. \n",
      "Epoch: 20/20..  Training Loss: 0.065..  Validation Loss: 0.165..  Validation Accuracy: 0.963.. \n",
      "Epoch: 1/20..  Training Loss: 0.667..  Validation Loss: 0.371..  Validation Accuracy: 0.890.. \n",
      "Epoch: 2/20..  Training Loss: 0.211..  Validation Loss: 0.302..  Validation Accuracy: 0.907.. \n",
      "Epoch: 3/20..  Training Loss: 0.137..  Validation Loss: 0.216..  Validation Accuracy: 0.939.. \n",
      "Epoch: 4/20..  Training Loss: 0.117..  Validation Loss: 0.226..  Validation Accuracy: 0.935.. \n",
      "Epoch: 5/20..  Training Loss: 0.115..  Validation Loss: 0.158..  Validation Accuracy: 0.956.. \n",
      "Epoch: 6/20..  Training Loss: 0.102..  Validation Loss: 0.184..  Validation Accuracy: 0.952.. \n",
      "Epoch: 7/20..  Training Loss: 0.076..  Validation Loss: 0.169..  Validation Accuracy: 0.953.. \n",
      "Epoch: 8/20..  Training Loss: 0.059..  Validation Loss: 0.151..  Validation Accuracy: 0.962.. \n",
      "Epoch: 9/20..  Training Loss: 0.051..  Validation Loss: 0.197..  Validation Accuracy: 0.953.. \n",
      "Epoch: 10/20..  Training Loss: 0.049..  Validation Loss: 0.218..  Validation Accuracy: 0.950.. \n",
      "Epoch: 11/20..  Training Loss: 0.061..  Validation Loss: 0.206..  Validation Accuracy: 0.955.. \n",
      "Epoch: 12/20..  Training Loss: 0.051..  Validation Loss: 0.262..  Validation Accuracy: 0.941.. \n",
      "Epoch: 13/20..  Training Loss: 0.049..  Validation Loss: 0.179..  Validation Accuracy: 0.958.. \n",
      "Epoch: 14/20..  Training Loss: 0.049..  Validation Loss: 0.157..  Validation Accuracy: 0.963.. \n",
      "Epoch: 15/20..  Training Loss: 0.044..  Validation Loss: 0.215..  Validation Accuracy: 0.955.. \n",
      "Epoch: 16/20..  Training Loss: 0.027..  Validation Loss: 0.184..  Validation Accuracy: 0.959.. \n",
      "Epoch: 17/20..  Training Loss: 0.040..  Validation Loss: 0.229..  Validation Accuracy: 0.955.. \n",
      "Epoch: 18/20..  Training Loss: 0.043..  Validation Loss: 0.183..  Validation Accuracy: 0.964.. \n",
      "Epoch: 19/20..  Training Loss: 0.050..  Validation Loss: 0.203..  Validation Accuracy: 0.962.. \n",
      "Epoch: 20/20..  Training Loss: 0.038..  Validation Loss: 0.200..  Validation Accuracy: 0.962.. \n"
     ]
    }
   ],
   "source": [
    "models = []\n",
    "\n",
    "m =  10 #number of models\n",
    "\n",
    "for i  in  range(m):\n",
    "    print(\"Training model {}\".format(i))\n",
    "    model, train_losses, test_losses= train_model(workers_train_data[i],\n",
    "                                      workers_train_targets[i],\n",
    "                                      workers_train_data[(i+1)%m],\n",
    "                                      workers_train_targets[(i+1)%m],\n",
    "                                      epochs = 20)\n",
    "    \n",
    "    print()\n",
    "    models.extend([model])\n",
    "    \n",
    "    \n",
    "    "
   ]
  },
  {
   "cell_type": "code",
   "execution_count": null,
   "metadata": {},
   "outputs": [],
   "source": []
  },
  {
   "cell_type": "markdown",
   "metadata": {},
   "source": [
    "# PATE Analysis "
   ]
  },
  {
   "cell_type": "code",
   "execution_count": 73,
   "metadata": {},
   "outputs": [
    {
     "name": "stdout",
     "output_type": "stream",
     "text": [
      "Warning: May not have used enough values of l. Increase 'moments' variable and run again.\n",
      "Warning: May not have used enough values of l. Increase 'moments' variable and run again.\n",
      "Data Independent Epsilon: 11.756462732485115\n",
      "Data Dependent Epsilon: 1.52655213289881\n"
     ]
    }
   ],
   "source": [
    "from syft.frameworks.torch.differential_privacy import pate\n",
    "\n",
    "\n",
    "\n",
    "import numpy as np\n",
    "\n",
    "def laplacian_mechanism(db,query, sensitivity, epsilon):\n",
    "    \n",
    "    assert  epsilon != 0, \"Epsilon must be different of 0\"\n",
    "    \n",
    "    b = sensitivity / epsilon\n",
    "    \n",
    "    noise = np.random.laplace(loc = 0.0, scale = b, size = 1)[0]\n",
    "    \n",
    "    return query(db).item() + noise \n",
    "\n",
    "\n",
    "\n",
    "\n",
    "new_labels = list()\n",
    "for an_image in preds:\n",
    "\n",
    "    label_counts = np.bincount(an_image, minlength=num_labels)\n",
    "\n",
    "    epsilon = 0.1\n",
    "    beta = 1 / epsilon\n",
    "\n",
    "    for i in range(len(label_counts)):\n",
    "        label_counts[i] += np.random.laplace(0, beta, 1)\n",
    "\n",
    "    new_label = np.argmax(label_counts)\n",
    "    \n",
    "    new_labels.append(new_label)\n",
    "    \n",
    "    \n",
    "    \n",
    "    \n",
    "\n",
    "num_teachers, num_examples, num_labels = (100, 100, 10)\n",
    "preds = (np.random.rand(num_teachers, num_examples) * num_labels).astype(int) #fake preds\n",
    "indices = (np.random.rand(num_examples) * num_labels).astype(int) # true answers\n",
    "\n",
    "preds[:,0:10] *= 0\n",
    "\n",
    "data_dep_eps, data_ind_eps = pate.perform_analysis(teacher_preds=preds, indices=indices, noise_eps=0.1, delta=1e-5)\n",
    "\n",
    "assert data_dep_eps < data_ind_eps\n",
    "\n",
    "\n",
    "data_dep_eps, data_ind_eps = pate.perform_analysis(teacher_preds=preds, indices=indices, noise_eps=0.1, delta=1e-5)\n",
    "print(\"Data Independent Epsilon:\", data_ind_eps)\n",
    "print(\"Data Dependent Epsilon:\", data_dep_eps)\n",
    "\n",
    "\n"
   ]
  },
  {
   "cell_type": "code",
   "execution_count": 99,
   "metadata": {},
   "outputs": [
    {
     "name": "stdout",
     "output_type": "stream",
     "text": [
      "(100, 100)\n",
      "[0 2 0 0 1 1]\n",
      "2\n"
     ]
    }
   ],
   "source": [
    "torch.zeros(10,10)\n",
    "print(preds.shape)\n",
    "\n",
    "print(np.bincount( np.array([1,1,4,5])  ) )\n",
    "\n",
    "\n",
    "print( torch.argmax(torch.tensor([.1,.1,.5,.3] )).item())\n",
    "\n",
    "\n",
    "\n",
    "new_labels = list()\n",
    "for an_image in preds:\n",
    "\n",
    "    label_counts = np.bincount(an_image, minlength=num_labels)\n",
    "\n",
    "    epsilon = 0.1\n",
    "    beta = 1 / epsilon\n",
    "\n",
    "    for i in range(len(label_counts)):\n",
    "        label_counts[i] += np.random.laplace(0, beta, 1)\n",
    "\n",
    "    new_label = np.argmax(label_counts)\n",
    "    \n",
    "    new_labels.append(new_label)"
   ]
  },
  {
   "cell_type": "code",
   "execution_count": 114,
   "metadata": {},
   "outputs": [],
   "source": [
    "import numpy as np\n",
    "\n",
    "def label_test_set(dataset,models, n_classes,epsilon = 0.1):\n",
    "    \"\"\"\n",
    "    test_set: pytorch array\n",
    "        m images of size n x n\n",
    "    models: list\n",
    "        pytorch model\n",
    "   \n",
    "    \n",
    "    n_classes: int\n",
    "    \n",
    "    return tensor of predictions for test_set\n",
    "        \n",
    "    \"\"\"\n",
    "    #number of models\n",
    "    m = len(models)\n",
    "    \n",
    "    #number of data points\n",
    "    n = dataset.shape[0]\n",
    "    \n",
    "    \n",
    "    beta = 1 / epsilon\n",
    "\n",
    "    \n",
    "    predictions = []\n",
    "    \n",
    "    #\n",
    "    labels =np.zeros((n,1))\n",
    "    \n",
    "    device = torch.device(\"cuda\" if torch.cuda.is_available() else \"cpu\")\n",
    "    \n",
    "    \n",
    "    for k in range(n):\n",
    "        \n",
    "        # Models predict on on data point\n",
    "        models_predictions = np.zeros(n_models, dtype = np.uint)\n",
    "        \n",
    "        image = dataset[k]\n",
    "        \n",
    "        #Move to gpu if available\n",
    "        image = image.to(device)\n",
    "        \n",
    "        # Each model make prediction on datapoint \n",
    "        for j  in range(n_models):\n",
    "            probs = torch.exp(models[j](image))\n",
    "            label = torch.argmax( probs).item()\n",
    "            models_predictions[j] = int(label)\n",
    "            \n",
    "        # Add  predictions to list\n",
    "        predictions.extend([models_predictions])\n",
    "    \n",
    "        # Make ENSEMBLE from the models\n",
    "        counts  = np.bincount(models_predictions, minlength=n_classes)\n",
    "        \n",
    "        # Add noise in each count\n",
    "        for i in range(n_models):\n",
    "            counts[i] += np.random.laplace(0, beta, 1)\n",
    "        \n",
    "        #New label is more predicted label\n",
    "        new_label = np.argmax(label_counts)\n",
    "    \n",
    "        #Assing new label\n",
    "        labels[k] = new_label\n",
    "        \n",
    "    \n",
    "    \n",
    "    \n",
    "    \n",
    "    return predictions, labels\n",
    "         \n",
    "    "
   ]
  },
  {
   "cell_type": "code",
   "execution_count": 115,
   "metadata": {},
   "outputs": [],
   "source": [
    "predictions, labels = label_test_set(test_data,\n",
    "                                            models = models,\n",
    "                                            n_classes = 10,\n",
    "                                            epsilon = 0.1)"
   ]
  },
  {
   "cell_type": "code",
   "execution_count": 120,
   "metadata": {},
   "outputs": [
    {
     "name": "stdout",
     "output_type": "stream",
     "text": [
      "[array([7, 7, 7, 7, 7, 7, 7, 7, 7, 7], dtype=uint32), array([2, 2, 2, 2, 2, 2, 2, 2, 2, 2], dtype=uint32), array([1, 1, 1, 1, 1, 1, 1, 1, 1, 1], dtype=uint32), array([0, 0, 0, 0, 0, 0, 0, 0, 0, 0], dtype=uint32), array([4, 4, 4, 4, 4, 4, 4, 4, 4, 4], dtype=uint32), array([1, 1, 1, 1, 1, 1, 1, 1, 1, 1], dtype=uint32), array([4, 4, 4, 4, 4, 4, 4, 4, 4, 4], dtype=uint32), array([9, 9, 9, 9, 9, 9, 9, 9, 9, 9], dtype=uint32), array([6, 8, 5, 5, 5, 5, 8, 5, 5, 5], dtype=uint32), array([9, 9, 9, 9, 9, 9, 9, 9, 9, 9], dtype=uint32)]\n"
     ]
    },
    {
     "data": {
      "text/plain": [
       "array([[9.],\n",
       "       [9.],\n",
       "       [9.],\n",
       "       [9.],\n",
       "       [9.],\n",
       "       [9.],\n",
       "       [9.],\n",
       "       [9.],\n",
       "       [9.],\n",
       "       [9.]])"
      ]
     },
     "execution_count": 120,
     "metadata": {},
     "output_type": "execute_result"
    }
   ],
   "source": [
    "print(predictions[:10])\n",
    "labels[:10]"
   ]
  },
  {
   "cell_type": "code",
   "execution_count": null,
   "metadata": {},
   "outputs": [],
   "source": []
  }
 ],
 "metadata": {
  "kernelspec": {
   "display_name": "privateai",
   "language": "python",
   "name": "privateai"
  },
  "language_info": {
   "codemirror_mode": {
    "name": "ipython",
    "version": 3
   },
   "file_extension": ".py",
   "mimetype": "text/x-python",
   "name": "python",
   "nbconvert_exporter": "python",
   "pygments_lexer": "ipython3",
   "version": "3.6.8"
  }
 },
 "nbformat": 4,
 "nbformat_minor": 2
}
