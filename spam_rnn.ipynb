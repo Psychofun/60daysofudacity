{
 "cells": [
  {
   "cell_type": "markdown",
   "metadata": {},
   "source": [
    "# Spam Detection with an RNN"
   ]
  },
  {
   "cell_type": "markdown",
   "metadata": {},
   "source": [
    ">Using an RNN rather than a strictly feedforward network is more accurate since we can include information about the *sequence* of words. "
   ]
  },
  {
   "cell_type": "markdown",
   "metadata": {},
   "source": [
    "#### Dataset: Kaggle SMS Spam Collection\n",
    "[Sms Spam](https://www.kaggle.com/uciml/sms-spam-collection-dataset/downloads/spam.csv/1)"
   ]
  },
  {
   "cell_type": "markdown",
   "metadata": {},
   "source": [
    "### Load in and visualize the data"
   ]
  },
  {
   "cell_type": "code",
   "execution_count": 18,
   "metadata": {},
   "outputs": [],
   "source": [
    "import numpy as np\n",
    "from numpy import  genfromtxt\n"
   ]
  },
  {
   "cell_type": "code",
   "execution_count": 25,
   "metadata": {},
   "outputs": [
    {
     "name": "stdout",
     "output_type": "stream",
     "text": [
      "Shape of data: (5575,)\n",
      "v1,v2,,, \n",
      "\n",
      "ham,\"Go until jurong point, crazy.. Available only in bugis n great world la e buffet... Cine there got amore wat...\",,, \n",
      "\n",
      "ham,Ok lar... Joking wif u oni...,,, \n",
      "\n"
     ]
    }
   ],
   "source": [
    "data = genfromtxt('data/spam.csv',delimiter = '\\n', dtype='str')\n",
    "\n",
    "\n",
    "print(\"Shape of data:\", data.shape)\n",
    "print(data[0], \"\\n\")\n",
    "print(data[1],\"\\n\")\n",
    "print(data[2],\"\\n\")\n",
    "\n",
    "\n"
   ]
  },
  {
   "cell_type": "code",
   "execution_count": 42,
   "metadata": {},
   "outputs": [],
   "source": [
    "# Throw fist row. \n",
    "data = data[1:]\n",
    "\n",
    "# Separate into messages and labels\n",
    "\n",
    "labels,messages =zip(*list(map( \n",
    "            lambda x: (x[:3]  , x[4:-3]) if x.startswith('h') else (x[:4],x[5:-3]) \n",
    "                               \n",
    "                               , data)))\n"
   ]
  },
  {
   "cell_type": "code",
   "execution_count": 43,
   "metadata": {},
   "outputs": [
    {
     "name": "stdout",
     "output_type": "stream",
     "text": [
      "Message 0: \"FreeMsg Hey there darling it's been 3 week's now and no word back! I'd like some fun you up for it still? Tb ok! XxX std chgs to send, å£1.50 to rcv\" \n",
      " Label: spam \n",
      " \n",
      "Message 1: Even my brother is not like to speak with me. They treat me like aids patent. \n",
      " Label: ham \n",
      " \n",
      "Message 2: As per your request 'Melle Melle (Oru Minnaminunginte Nurungu Vettam)' has been set as your callertune for all Callers. Press *9 to copy your friends Callertune \n",
      " Label: ham \n",
      " \n",
      "Message 3: WINNER!! As a valued network customer you have been selected to receivea å£900 prize reward! To claim call 09061701461. Claim code KL341. Valid 12 hours only. \n",
      " Label: spam \n",
      " \n",
      "Message 4: Had your mobile 11 months or more? U R entitled to Update to the latest colour mobiles with camera for Free! Call The Mobile Update Co FREE on 08002986030 \n",
      " Label: spam \n",
      " \n",
      "Message 5: \"I'm gonna be home soon and i don't want to talk about this stuff anymore tonight, k? I've cried enough today.\" \n",
      " Label: ham \n",
      " \n",
      "Message 6: \"SIX chances to win CASH! From 100 to 20,000 pounds txt> CSH11 and send to 87575. Cost 150p/day, 6days, 16+ TsandCs apply Reply HL 4 info\" \n",
      " Label: spam \n",
      " \n",
      "Message 7: \"URGENT! You have won a 1 week FREE membership in our å£100,000 Prize Jackpot! Txt the word: CLAIM to No: 81010 T&C www.dbuk.net LCCLTD POBOX 4403LDNW1A7RW18\" \n",
      " Label: spam \n",
      " \n",
      "Message 8: I've been searching for the right words to thank you for this breather. I promise i wont take your help for granted and will fulfil my promise. You have been wonderful and a blessing at all times. \n",
      " Label: ham \n",
      " \n",
      "Message 9: I HAVE A DATE ON SUNDAY WITH WILL!! \n",
      " Label: ham \n",
      " \n"
     ]
    }
   ],
   "source": [
    "for i in range(10):\n",
    "    print(\"Message {}: {} \\n Label: {} \\n \".format(i,messages[i], labels[i]))"
   ]
  },
  {
   "cell_type": "code",
   "execution_count": 31,
   "metadata": {},
   "outputs": [
    {
     "data": {
      "text/plain": [
       "(1, 2, 3)"
      ]
     },
     "execution_count": 31,
     "metadata": {},
     "output_type": "execute_result"
    }
   ],
   "source": []
  },
  {
   "cell_type": "code",
   "execution_count": 32,
   "metadata": {},
   "outputs": [
    {
     "data": {
      "text/plain": [
       "(2, 2, 3.1)"
      ]
     },
     "execution_count": 32,
     "metadata": {},
     "output_type": "execute_result"
    }
   ],
   "source": []
  },
  {
   "cell_type": "code",
   "execution_count": null,
   "metadata": {},
   "outputs": [],
   "source": []
  }
 ],
 "metadata": {
  "kernelspec": {
   "display_name": "privateai",
   "language": "python",
   "name": "privateai"
  },
  "language_info": {
   "codemirror_mode": {
    "name": "ipython",
    "version": 3
   },
   "file_extension": ".py",
   "mimetype": "text/x-python",
   "name": "python",
   "nbconvert_exporter": "python",
   "pygments_lexer": "ipython3",
   "version": "3.6.8"
  }
 },
 "nbformat": 4,
 "nbformat_minor": 2
}
